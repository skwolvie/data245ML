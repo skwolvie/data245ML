{
 "cells": [
  {
   "cell_type": "code",
   "execution_count": 1,
   "metadata": {},
   "outputs": [],
   "source": [
    "import pandas as pd\n",
    "import numpy as np\n",
    "import os"
   ]
  },
  {
   "cell_type": "code",
   "execution_count": 2,
   "metadata": {},
   "outputs": [],
   "source": [
    "import matplotlib.pyplot as plt"
   ]
  },
  {
   "cell_type": "code",
   "execution_count": 6,
   "metadata": {},
   "outputs": [
    {
     "name": "stdout",
     "output_type": "stream",
     "text": [
      "<class 'pandas.core.frame.DataFrame'>\n",
      "RangeIndex: 3479257 entries, 0 to 3479256\n",
      "Data columns (total 18 columns):\n",
      " #   Column                        Non-Null Count    Dtype \n",
      "---  ------                        --------------    ----- \n",
      " 0   Date received                 3479257 non-null  object\n",
      " 1   Product                       3479257 non-null  object\n",
      " 2   Sub-product                   3243966 non-null  object\n",
      " 3   Issue                         3479257 non-null  object\n",
      " 4   Sub-issue                     2778694 non-null  object\n",
      " 5   Consumer complaint narrative  1254126 non-null  object\n",
      " 6   Company public response       1546081 non-null  object\n",
      " 7   Company                       3479257 non-null  object\n",
      " 8   State                         3438123 non-null  object\n",
      " 9   ZIP code                      3437600 non-null  object\n",
      " 10  Tags                          383746 non-null   object\n",
      " 11  Consumer consent provided?    2605489 non-null  object\n",
      " 12  Submitted via                 3479257 non-null  object\n",
      " 13  Date sent to company          3479257 non-null  object\n",
      " 14  Company response to consumer  3479253 non-null  object\n",
      " 15  Timely response?              3479257 non-null  object\n",
      " 16  Consumer disputed?            768393 non-null   object\n",
      " 17  Complaint ID                  3479257 non-null  int64 \n",
      "dtypes: int64(1), object(17)\n",
      "memory usage: 477.8+ MB\n"
     ]
    }
   ],
   "source": [
    "df= pd.read_csv('data/raw-complaints.csv', low_memory=False)\n",
    "df.info(verbose=True, show_counts=True)"
   ]
  },
  {
   "cell_type": "code",
   "execution_count": 7,
   "metadata": {},
   "outputs": [
    {
     "data": {
      "text/plain": [
       "Date received                         0\n",
       "Product                               0\n",
       "Sub-product                      235291\n",
       "Issue                                 0\n",
       "Sub-issue                        700563\n",
       "Consumer complaint narrative    2225131\n",
       "Company public response         1933176\n",
       "Company                               0\n",
       "State                             41134\n",
       "ZIP code                          41657\n",
       "Tags                            3095511\n",
       "Consumer consent provided?       873768\n",
       "Submitted via                         0\n",
       "Date sent to company                  0\n",
       "Company response to consumer          4\n",
       "Timely response?                      0\n",
       "Consumer disputed?              2710864\n",
       "Complaint ID                          0\n",
       "dtype: int64"
      ]
     },
     "execution_count": 7,
     "metadata": {},
     "output_type": "execute_result"
    }
   ],
   "source": [
    "df.isna().sum()"
   ]
  },
  {
   "cell_type": "code",
   "execution_count": 8,
   "metadata": {},
   "outputs": [
    {
     "data": {
      "text/html": [
       "<div>\n",
       "<style scoped>\n",
       "    .dataframe tbody tr th:only-of-type {\n",
       "        vertical-align: middle;\n",
       "    }\n",
       "\n",
       "    .dataframe tbody tr th {\n",
       "        vertical-align: top;\n",
       "    }\n",
       "\n",
       "    .dataframe thead th {\n",
       "        text-align: right;\n",
       "    }\n",
       "</style>\n",
       "<table border=\"1\" class=\"dataframe\">\n",
       "  <thead>\n",
       "    <tr style=\"text-align: right;\">\n",
       "      <th></th>\n",
       "      <th>Date received</th>\n",
       "      <th>Product</th>\n",
       "      <th>Sub-product</th>\n",
       "      <th>Issue</th>\n",
       "      <th>Sub-issue</th>\n",
       "      <th>Consumer complaint narrative</th>\n",
       "      <th>Company public response</th>\n",
       "      <th>Company</th>\n",
       "      <th>State</th>\n",
       "      <th>ZIP code</th>\n",
       "      <th>Tags</th>\n",
       "      <th>Consumer consent provided?</th>\n",
       "      <th>Submitted via</th>\n",
       "      <th>Date sent to company</th>\n",
       "      <th>Company response to consumer</th>\n",
       "      <th>Timely response?</th>\n",
       "      <th>Consumer disputed?</th>\n",
       "      <th>Complaint ID</th>\n",
       "    </tr>\n",
       "  </thead>\n",
       "  <tbody>\n",
       "    <tr>\n",
       "      <th>0</th>\n",
       "      <td>2021-10-12</td>\n",
       "      <td>Credit reporting, credit repair services, or o...</td>\n",
       "      <td>Credit reporting</td>\n",
       "      <td>Problem with a credit reporting company's inve...</td>\n",
       "      <td>Investigation took more than 30 days</td>\n",
       "      <td>hi experian has a low and unfair credit number...</td>\n",
       "      <td>Company has responded to the consumer and the ...</td>\n",
       "      <td>Experian Information Solutions Inc.</td>\n",
       "      <td>IL</td>\n",
       "      <td>60615</td>\n",
       "      <td>Servicemember</td>\n",
       "      <td>Consent provided</td>\n",
       "      <td>Web</td>\n",
       "      <td>2021-10-12</td>\n",
       "      <td>Closed with non-monetary relief</td>\n",
       "      <td>Yes</td>\n",
       "      <td>NaN</td>\n",
       "      <td>4799925</td>\n",
       "    </tr>\n",
       "    <tr>\n",
       "      <th>1</th>\n",
       "      <td>2021-01-12</td>\n",
       "      <td>Credit reporting, credit repair services, or o...</td>\n",
       "      <td>Credit reporting</td>\n",
       "      <td>Incorrect information on your report</td>\n",
       "      <td>Information belongs to someone else</td>\n",
       "      <td>I disputed innacurate accounts reported by you...</td>\n",
       "      <td>Company has responded to the consumer and the ...</td>\n",
       "      <td>TRANSUNION INTERMEDIATE HOLDINGS, INC.</td>\n",
       "      <td>IL</td>\n",
       "      <td>60615</td>\n",
       "      <td>NaN</td>\n",
       "      <td>Consent provided</td>\n",
       "      <td>Web</td>\n",
       "      <td>2021-01-12</td>\n",
       "      <td>Closed with explanation</td>\n",
       "      <td>Yes</td>\n",
       "      <td>NaN</td>\n",
       "      <td>4061709</td>\n",
       "    </tr>\n",
       "    <tr>\n",
       "      <th>2</th>\n",
       "      <td>2023-01-24</td>\n",
       "      <td>Credit reporting, credit repair services, or o...</td>\n",
       "      <td>Credit reporting</td>\n",
       "      <td>Problem with a credit reporting company's inve...</td>\n",
       "      <td>Their investigation did not fix an error on yo...</td>\n",
       "      <td>I have continued to dispute this account with ...</td>\n",
       "      <td>NaN</td>\n",
       "      <td>EQUIFAX, INC.</td>\n",
       "      <td>FL</td>\n",
       "      <td>33823</td>\n",
       "      <td>NaN</td>\n",
       "      <td>Consent provided</td>\n",
       "      <td>Web</td>\n",
       "      <td>2023-01-24</td>\n",
       "      <td>Closed with explanation</td>\n",
       "      <td>Yes</td>\n",
       "      <td>NaN</td>\n",
       "      <td>6482822</td>\n",
       "    </tr>\n",
       "    <tr>\n",
       "      <th>3</th>\n",
       "      <td>2022-06-21</td>\n",
       "      <td>Credit reporting, credit repair services, or o...</td>\n",
       "      <td>Credit reporting</td>\n",
       "      <td>Incorrect information on your report</td>\n",
       "      <td>Information belongs to someone else</td>\n",
       "      <td>Hi I am submitting this XXXX XXXX this isn't a...</td>\n",
       "      <td>NaN</td>\n",
       "      <td>EQUIFAX, INC.</td>\n",
       "      <td>IL</td>\n",
       "      <td>60106</td>\n",
       "      <td>NaN</td>\n",
       "      <td>Consent provided</td>\n",
       "      <td>Web</td>\n",
       "      <td>2022-06-21</td>\n",
       "      <td>Closed with explanation</td>\n",
       "      <td>Yes</td>\n",
       "      <td>NaN</td>\n",
       "      <td>5693484</td>\n",
       "    </tr>\n",
       "    <tr>\n",
       "      <th>4</th>\n",
       "      <td>2023-01-23</td>\n",
       "      <td>Credit reporting, credit repair services, or o...</td>\n",
       "      <td>Credit reporting</td>\n",
       "      <td>Incorrect information on your report</td>\n",
       "      <td>Information belongs to someone else</td>\n",
       "      <td>Hi I am submitting this XXXX XXXX this isn't a...</td>\n",
       "      <td>NaN</td>\n",
       "      <td>EQUIFAX, INC.</td>\n",
       "      <td>IL</td>\n",
       "      <td>60619</td>\n",
       "      <td>NaN</td>\n",
       "      <td>Consent provided</td>\n",
       "      <td>Web</td>\n",
       "      <td>2023-01-23</td>\n",
       "      <td>Closed with explanation</td>\n",
       "      <td>Yes</td>\n",
       "      <td>NaN</td>\n",
       "      <td>6477844</td>\n",
       "    </tr>\n",
       "  </tbody>\n",
       "</table>\n",
       "</div>"
      ],
      "text/plain": [
       "  Date received                                            Product  \\\n",
       "0    2021-10-12  Credit reporting, credit repair services, or o...   \n",
       "1    2021-01-12  Credit reporting, credit repair services, or o...   \n",
       "2    2023-01-24  Credit reporting, credit repair services, or o...   \n",
       "3    2022-06-21  Credit reporting, credit repair services, or o...   \n",
       "4    2023-01-23  Credit reporting, credit repair services, or o...   \n",
       "\n",
       "        Sub-product                                              Issue  \\\n",
       "0  Credit reporting  Problem with a credit reporting company's inve...   \n",
       "1  Credit reporting               Incorrect information on your report   \n",
       "2  Credit reporting  Problem with a credit reporting company's inve...   \n",
       "3  Credit reporting               Incorrect information on your report   \n",
       "4  Credit reporting               Incorrect information on your report   \n",
       "\n",
       "                                           Sub-issue  \\\n",
       "0               Investigation took more than 30 days   \n",
       "1                Information belongs to someone else   \n",
       "2  Their investigation did not fix an error on yo...   \n",
       "3                Information belongs to someone else   \n",
       "4                Information belongs to someone else   \n",
       "\n",
       "                        Consumer complaint narrative  \\\n",
       "0  hi experian has a low and unfair credit number...   \n",
       "1  I disputed innacurate accounts reported by you...   \n",
       "2  I have continued to dispute this account with ...   \n",
       "3  Hi I am submitting this XXXX XXXX this isn't a...   \n",
       "4  Hi I am submitting this XXXX XXXX this isn't a...   \n",
       "\n",
       "                             Company public response  \\\n",
       "0  Company has responded to the consumer and the ...   \n",
       "1  Company has responded to the consumer and the ...   \n",
       "2                                                NaN   \n",
       "3                                                NaN   \n",
       "4                                                NaN   \n",
       "\n",
       "                                  Company State ZIP code           Tags  \\\n",
       "0     Experian Information Solutions Inc.    IL    60615  Servicemember   \n",
       "1  TRANSUNION INTERMEDIATE HOLDINGS, INC.    IL    60615            NaN   \n",
       "2                           EQUIFAX, INC.    FL    33823            NaN   \n",
       "3                           EQUIFAX, INC.    IL    60106            NaN   \n",
       "4                           EQUIFAX, INC.    IL    60619            NaN   \n",
       "\n",
       "  Consumer consent provided? Submitted via Date sent to company  \\\n",
       "0           Consent provided           Web           2021-10-12   \n",
       "1           Consent provided           Web           2021-01-12   \n",
       "2           Consent provided           Web           2023-01-24   \n",
       "3           Consent provided           Web           2022-06-21   \n",
       "4           Consent provided           Web           2023-01-23   \n",
       "\n",
       "      Company response to consumer Timely response? Consumer disputed?  \\\n",
       "0  Closed with non-monetary relief              Yes                NaN   \n",
       "1          Closed with explanation              Yes                NaN   \n",
       "2          Closed with explanation              Yes                NaN   \n",
       "3          Closed with explanation              Yes                NaN   \n",
       "4          Closed with explanation              Yes                NaN   \n",
       "\n",
       "   Complaint ID  \n",
       "0       4799925  \n",
       "1       4061709  \n",
       "2       6482822  \n",
       "3       5693484  \n",
       "4       6477844  "
      ]
     },
     "execution_count": 8,
     "metadata": {},
     "output_type": "execute_result"
    }
   ],
   "source": [
    "df.head()"
   ]
  },
  {
   "cell_type": "code",
   "execution_count": 9,
   "metadata": {},
   "outputs": [
    {
     "data": {
      "text/plain": [
       "Index(['date_received', 'product', 'sub_product', 'issue', 'sub_issue',\n",
       "       'consumer_complaint_narrative', 'company_public_response', 'company',\n",
       "       'state', 'zip_code', 'tags', 'consumer_consent_provided?',\n",
       "       'submitted_via', 'date_sent_to_company', 'company_response_to_consumer',\n",
       "       'timely_response?', 'consumer_disputed?', 'complaint_id'],\n",
       "      dtype='object')"
      ]
     },
     "execution_count": 9,
     "metadata": {},
     "output_type": "execute_result"
    }
   ],
   "source": [
    "columns= df.columns.str.lower()\n",
    "columns= columns.str.replace(' ', '_')\n",
    "columns= columns.str.replace('-', '_')\n",
    "columns"
   ]
  },
  {
   "cell_type": "code",
   "execution_count": 10,
   "metadata": {},
   "outputs": [
    {
     "data": {
      "text/plain": [
       "Index(['date_received', 'product', 'sub_product', 'issue', 'sub_issue',\n",
       "       'consumer_complaint_narrative', 'company_public_response', 'company',\n",
       "       'state', 'zip_code', 'tags', 'consumer_consent_provided?',\n",
       "       'submitted_via', 'date_sent_to_company', 'company_response_to_consumer',\n",
       "       'timely_response?', 'consumer_disputed?', 'complaint_id'],\n",
       "      dtype='object')"
      ]
     },
     "execution_count": 10,
     "metadata": {},
     "output_type": "execute_result"
    }
   ],
   "source": [
    "df.columns=columns\n",
    "df.columns"
   ]
  },
  {
   "cell_type": "code",
   "execution_count": 21,
   "metadata": {},
   "outputs": [
    {
     "data": {
      "text/plain": [
       "2011      2536\n",
       "2012     72372\n",
       "2013    108215\n",
       "2014    153029\n",
       "2015    168459\n",
       "2016    191441\n",
       "2017    242888\n",
       "2018    257234\n",
       "2019    277311\n",
       "2020    444314\n",
       "2021    496005\n",
       "2022    800427\n",
       "2023    265026\n",
       "Name: year, dtype: int64"
      ]
     },
     "execution_count": 21,
     "metadata": {},
     "output_type": "execute_result"
    }
   ],
   "source": [
    "df['date_received']= df['date_received'].astype('datetime64[ns]')\n",
    "df['year']= df['date_received'].dt.year\n",
    "df['month_year']= df['date_received'].dt.to_period('M')\n",
    "df.year.value_counts().sort_index()"
   ]
  },
  {
   "cell_type": "code",
   "execution_count": 25,
   "metadata": {},
   "outputs": [
    {
     "data": {
      "text/plain": [
       "2012     72372\n",
       "2013    108215\n",
       "2014    153029\n",
       "2015    168459\n",
       "2016    191441\n",
       "2017    242888\n",
       "2018    257234\n",
       "2019    277311\n",
       "2020    444314\n",
       "2021    496005\n",
       "2022    800427\n",
       "Name: year, dtype: int64"
      ]
     },
     "execution_count": 25,
     "metadata": {},
     "output_type": "execute_result"
    }
   ],
   "source": [
    "transaction_counts= df.year.value_counts().sort_index()[1:-1]\n",
    "transaction_counts"
   ]
  },
  {
   "cell_type": "code",
   "execution_count": 24,
   "metadata": {},
   "outputs": [
    {
     "data": {
      "image/png": "[encoded data removed]",
      "text/plain": [
       "<Figure size 640x480 with 1 Axes>"
      ]
     },
     "metadata": {},
     "output_type": "display_data"
    }
   ],
   "source": [
    "# plot the transaction counts over time\n",
    "plt.plot(transaction_counts.index, transaction_counts.values)\n",
    "plt.xlabel('Date')\n",
    "plt.ylabel('Transaction Count')\n",
    "plt.title('Transaction Count Over Time')\n",
    "plt.show()"
   ]
  },
  {
   "cell_type": "code",
   "execution_count": 17,
   "metadata": {},
   "outputs": [
    {
     "data": {
      "text/plain": [
       "year  timely_response?\n",
       "2011  Yes                   2285\n",
       "      No                     251\n",
       "2012  Yes                  69865\n",
       "      No                    2507\n",
       "2013  Yes                 106948\n",
       "      No                    1267\n",
       "2014  Yes                 149410\n",
       "      No                    3619\n",
       "2015  Yes                 163651\n",
       "      No                    4808\n",
       "2016  Yes                 184796\n",
       "      No                    6645\n",
       "2017  Yes                 235953\n",
       "      No                    6935\n",
       "2018  Yes                 252728\n",
       "      No                    4506\n",
       "2019  Yes                 273089\n",
       "      No                    4222\n",
       "2020  Yes                 439656\n",
       "      No                    4658\n",
       "2021  Yes                 489769\n",
       "      No                    6236\n",
       "2022  Yes                 795122\n",
       "      No                    5305\n",
       "2023  Yes                 263935\n",
       "      No                    1091\n",
       "Name: timely_response?, dtype: int64"
      ]
     },
     "execution_count": 17,
     "metadata": {},
     "output_type": "execute_result"
    }
   ],
   "source": [
    "df.groupby('year')['timely_response?'].value_counts()"
   ]
  },
  {
   "cell_type": "code",
   "execution_count": 18,
   "metadata": {},
   "outputs": [
    {
     "data": {
      "text/plain": [
       "year  consumer_disputed?\n",
       "2011  No                      1963\n",
       "      Yes                      573\n",
       "2012  No                     55945\n",
       "      Yes                    16427\n",
       "2013  No                     85621\n",
       "      Yes                    22594\n",
       "2014  No                    123318\n",
       "      Yes                    29711\n",
       "2015  No                    134176\n",
       "      Yes                    34283\n",
       "2016  No                    156653\n",
       "      Yes                    34788\n",
       "2017  No                     62339\n",
       "      Yes                    10002\n",
       "Name: consumer_disputed?, dtype: int64"
      ]
     },
     "execution_count": 18,
     "metadata": {},
     "output_type": "execute_result"
    }
   ],
   "source": [
    "df.groupby('year')['consumer_disputed?'].value_counts()"
   ]
  },
  {
   "cell_type": "code",
   "execution_count": 4,
   "metadata": {},
   "outputs": [
    {
     "data": {
      "text/plain": [
       "0.27307509451902834"
      ]
     },
     "execution_count": 4,
     "metadata": {},
     "output_type": "execute_result"
    }
   ],
   "source": [
    "72372/265026"
   ]
  },
  {
   "cell_type": "code",
   "execution_count": 20,
   "metadata": {},
   "outputs": [
    {
     "data": {
      "text/plain": [
       "Timestamp('2011-12-01 00:00:00')"
      ]
     },
     "execution_count": 20,
     "metadata": {},
     "output_type": "execute_result"
    }
   ],
   "source": [
    "df['date_received'].min()"
   ]
  },
  {
   "cell_type": "code",
   "execution_count": 12,
   "metadata": {},
   "outputs": [
    {
     "data": {
      "text/plain": [
       "(array([  74908.,  108215.,  153029.,  168459.,  191441.,  500122.,\n",
       "         277311.,  444314.,  496005., 1065453.]),\n",
       " array([2011. , 2012.2, 2013.4, 2014.6, 2015.8, 2017. , 2018.2, 2019.4,\n",
       "        2020.6, 2021.8, 2023. ]),\n",
       " <BarContainer object of 10 artists>)"
      ]
     },
     "execution_count": 12,
     "metadata": {},
     "output_type": "execute_result"
    },
    {
     "data": {
      "image/png": "[encoded data removed]",
      "text/plain": [
       "<Figure size 640x480 with 1 Axes>"
      ]
     },
     "metadata": {},
     "output_type": "display_data"
    }
   ],
   "source": [
    "plt.hist(df['year'])"
   ]
  },
  {
   "cell_type": "code",
   "execution_count": 13,
   "metadata": {},
   "outputs": [
    {
     "name": "stdout",
     "output_type": "stream",
     "text": [
      "<class 'pandas.core.frame.DataFrame'>\n",
      "Int64Index: 621144 entries, 19835 to 3479255\n",
      "Data columns (total 20 columns):\n",
      " #   Column                        Non-Null Count   Dtype         \n",
      "---  ------                        --------------   -----         \n",
      " 0   date_received                 621144 non-null  datetime64[ns]\n",
      " 1   product                       621144 non-null  object        \n",
      " 2   sub_product                   428681 non-null  object        \n",
      " 3   issue                         621144 non-null  object        \n",
      " 4   sub_issue                     269314 non-null  object        \n",
      " 5   consumer_complaint_narrative  132561 non-null  object        \n",
      " 6   company_public_response       161459 non-null  object        \n",
      " 7   company                       621144 non-null  object        \n",
      " 8   state                         616619 non-null  object        \n",
      " 9   zip_code                      616623 non-null  object        \n",
      " 10  tags                          91168 non-null   object        \n",
      " 11  consumer_consent_provided?    240294 non-null  object        \n",
      " 12  submitted_via                 621144 non-null  object        \n",
      " 13  date_sent_to_company          621144 non-null  object        \n",
      " 14  company_response_to_consumer  621144 non-null  object        \n",
      " 15  timely_response?              621144 non-null  object        \n",
      " 16  consumer_disputed?            621144 non-null  object        \n",
      " 17  complaint_id                  621144 non-null  int64         \n",
      " 18  year                          621144 non-null  int64         \n",
      " 19  month_year                    621144 non-null  period[M]     \n",
      "dtypes: datetime64[ns](1), int64(2), object(16), period[M](1)\n",
      "memory usage: 99.5+ MB\n"
     ]
    }
   ],
   "source": [
    "# reason- consumer disputes are not reported from 2017. There is issues in the data collection in first two years\n",
    "df= df[df['year'].isin([2013, 2014, 2015, 2016])]\n",
    "df.info()"
   ]
  },
  {
   "cell_type": "code",
   "execution_count": 24,
   "metadata": {},
   "outputs": [
    {
     "data": {
      "text/plain": [
       "date_received                        0\n",
       "product                              0\n",
       "sub_product                     192463\n",
       "issue                                0\n",
       "sub_issue                       351830\n",
       "consumer_complaint_narrative    488583\n",
       "company_public_response         459685\n",
       "company                              0\n",
       "state                             4525\n",
       "zip_code                          4521\n",
       "tags                            529976\n",
       "consumer_consent_provided?      380850\n",
       "submitted_via                        0\n",
       "date_sent_to_company                 0\n",
       "company_response_to_consumer         0\n",
       "timely_response?                     0\n",
       "consumer_disputed?                   0\n",
       "complaint_id                         0\n",
       "year                                 0\n",
       "month_year                           0\n",
       "dtype: int64"
      ]
     },
     "execution_count": 24,
     "metadata": {},
     "output_type": "execute_result"
    }
   ],
   "source": [
    "df.isna().sum()"
   ]
  },
  {
   "cell_type": "code",
   "execution_count": 27,
   "metadata": {},
   "outputs": [],
   "source": [
    "import missingno as msno\n",
    "\n",
    "def missing_values_table(df):\n",
    "        # Total missing values\n",
    "        mis_val = df.isnull().sum()\n",
    "        \n",
    "        # Percentage of missing values\n",
    "        mis_val_percent = 100 * df.isnull().sum() / len(df)\n",
    "        \n",
    "        # Make a table with the results\n",
    "        mis_val_table = pd.concat([mis_val, mis_val_percent], axis=1)\n",
    "        \n",
    "        # Rename the columns\n",
    "        mis_val_table_ren_columns = mis_val_table.rename(\n",
    "        columns = {0 : 'Missing Values', 1 : '% of Total Values'})\n",
    "        \n",
    "        # Sort the table by percentage of missing descending\n",
    "        mis_val_table_ren_columns = mis_val_table_ren_columns[\n",
    "            mis_val_table_ren_columns.iloc[:,1] != 0].sort_values(\n",
    "        '% of Total Values', ascending=False).round(1)\n",
    "        \n",
    "        # Print some summary information\n",
    "        print (\"Your selected dataframe has \" + str(df.shape[1]) + \" columns.\\n\"      \n",
    "            \"There are \" + str(mis_val_table_ren_columns.shape[0]) +\n",
    "              \" columns that have missing values.\")\n",
    "        \n",
    "        # Return the dataframe with missing information\n",
    "        return mis_val_table_ren_columns"
   ]
  },
  {
   "cell_type": "code",
   "execution_count": 28,
   "metadata": {},
   "outputs": [
    {
     "name": "stdout",
     "output_type": "stream",
     "text": [
      "Your selected dataframe has 20 columns.\n",
      "There are 10 columns that have missing values.\n"
     ]
    },
    {
     "data": {
      "text/html": [
       "<div>\n",
       "<style scoped>\n",
       "    .dataframe tbody tr th:only-of-type {\n",
       "        vertical-align: middle;\n",
       "    }\n",
       "\n",
       "    .dataframe tbody tr th {\n",
       "        vertical-align: top;\n",
       "    }\n",
       "\n",
       "    .dataframe thead th {\n",
       "        text-align: right;\n",
       "    }\n",
       "</style>\n",
       "<table border=\"1\" class=\"dataframe\">\n",
       "  <thead>\n",
       "    <tr style=\"text-align: right;\">\n",
       "      <th></th>\n",
       "      <th>Missing Values</th>\n",
       "      <th>% of Total Values</th>\n",
       "    </tr>\n",
       "  </thead>\n",
       "  <tbody>\n",
       "    <tr>\n",
       "      <th>tags</th>\n",
       "      <td>3095511</td>\n",
       "      <td>89.0</td>\n",
       "    </tr>\n",
       "    <tr>\n",
       "      <th>consumer_disputed?</th>\n",
       "      <td>2710864</td>\n",
       "      <td>77.9</td>\n",
       "    </tr>\n",
       "    <tr>\n",
       "      <th>consumer_complaint_narrative</th>\n",
       "      <td>2225131</td>\n",
       "      <td>64.0</td>\n",
       "    </tr>\n",
       "    <tr>\n",
       "      <th>company_public_response</th>\n",
       "      <td>1933176</td>\n",
       "      <td>55.6</td>\n",
       "    </tr>\n",
       "    <tr>\n",
       "      <th>consumer_consent_provided?</th>\n",
       "      <td>873768</td>\n",
       "      <td>25.1</td>\n",
       "    </tr>\n",
       "    <tr>\n",
       "      <th>sub_issue</th>\n",
       "      <td>700563</td>\n",
       "      <td>20.1</td>\n",
       "    </tr>\n",
       "    <tr>\n",
       "      <th>sub_product</th>\n",
       "      <td>235291</td>\n",
       "      <td>6.8</td>\n",
       "    </tr>\n",
       "    <tr>\n",
       "      <th>zip_code</th>\n",
       "      <td>41657</td>\n",
       "      <td>1.2</td>\n",
       "    </tr>\n",
       "    <tr>\n",
       "      <th>state</th>\n",
       "      <td>41134</td>\n",
       "      <td>1.2</td>\n",
       "    </tr>\n",
       "    <tr>\n",
       "      <th>company_response_to_consumer</th>\n",
       "      <td>4</td>\n",
       "      <td>0.0</td>\n",
       "    </tr>\n",
       "  </tbody>\n",
       "</table>\n",
       "</div>"
      ],
      "text/plain": [
       "                              Missing Values  % of Total Values\n",
       "tags                                 3095511               89.0\n",
       "consumer_disputed?                   2710864               77.9\n",
       "consumer_complaint_narrative         2225131               64.0\n",
       "company_public_response              1933176               55.6\n",
       "consumer_consent_provided?            873768               25.1\n",
       "sub_issue                             700563               20.1\n",
       "sub_product                           235291                6.8\n",
       "zip_code                               41657                1.2\n",
       "state                                  41134                1.2\n",
       "company_response_to_consumer               4                0.0"
      ]
     },
     "execution_count": 28,
     "metadata": {},
     "output_type": "execute_result"
    }
   ],
   "source": [
    "missing_values_table(df)"
   ]
  },
  {
   "cell_type": "code",
   "execution_count": 27,
   "metadata": {},
   "outputs": [
    {
     "data": {
      "text/plain": [
       "Older American                   51667\n",
       "Servicemember                    31713\n",
       "Older American, Servicemember     7788\n",
       "Name: tags, dtype: int64"
      ]
     },
     "execution_count": 27,
     "metadata": {},
     "output_type": "execute_result"
    }
   ],
   "source": [
    "df['tags'].value_counts()"
   ]
  },
  {
   "cell_type": "markdown",
   "metadata": {},
   "source": []
  },
  {
   "cell_type": "markdown",
   "metadata": {},
   "source": []
  },
  {
   "cell_type": "code",
   "execution_count": 28,
   "metadata": {},
   "outputs": [
    {
     "data": {
      "text/plain": [
       "(621144, 17)"
      ]
     },
     "execution_count": 28,
     "metadata": {},
     "output_type": "execute_result"
    }
   ],
   "source": [
    "df.drop(columns=['tags', 'consumer_complaint_narrative', 'company_public_response'], inplace=True)\n",
    "df.shape"
   ]
  },
  {
   "cell_type": "code",
   "execution_count": 29,
   "metadata": {},
   "outputs": [
    {
     "data": {
      "text/plain": [
       "Mortgage                   176170\n",
       "Debt collection            130359\n",
       "Credit reporting           121971\n",
       "Bank account or service     67038\n",
       "Credit card                 65444\n",
       "Consumer Loan               26046\n",
       "Student loan                19876\n",
       "Payday loan                  5048\n",
       "Money transfers              4914\n",
       "Prepaid card                 3370\n",
       "Other financial service       893\n",
       "Virtual currency               15\n",
       "Name: product, dtype: int64"
      ]
     },
     "execution_count": 29,
     "metadata": {},
     "output_type": "execute_result"
    }
   ],
   "source": [
    "df['product']= df['product'].astype('category')\n",
    "df['product'].value_counts()"
   ]
  },
  {
   "cell_type": "code",
   "execution_count": 30,
   "metadata": {},
   "outputs": [
    {
     "data": {
      "text/plain": [
       "Other mortgage                            63559\n",
       "Conventional fixed mortgage               56570\n",
       "Checking account                          45329\n",
       "Other (i.e. phone, health club, etc.)     39226\n",
       "I do not know                             27132\n",
       "Credit card                               26073\n",
       "FHA mortgage                              20228\n",
       "Conventional adjustable mortgage (ARM)    20171\n",
       "Non-federal student loan                  18430\n",
       "Medical                                   18302\n",
       "Other bank product/service                14764\n",
       "Vehicle loan                              14635\n",
       "Home equity loan or line of credit         9301\n",
       "Installment loan                           7315\n",
       "Payday loan                                6981\n",
       "Mortgage                                   4474\n",
       "VA mortgage                                4235\n",
       "Federal student loan servicing             4071\n",
       "Savings account                            4043\n",
       "Auto                                       3312\n",
       "International money transfer               2566\n",
       "(CD) Certificate of deposit                2422\n",
       "Domestic (US) money transfer               2363\n",
       "Federal student loan                       2234\n",
       "Vehicle lease                              2166\n",
       "Reverse mortgage                           1735\n",
       "General purpose card                       1551\n",
       "Personal line of credit                    1363\n",
       "Title loan                                  483\n",
       "Cashing a check without an account          480\n",
       "Payroll card                                380\n",
       "Second mortgage                             371\n",
       "Mobile wallet                               361\n",
       "Gift or merchant card                       348\n",
       "Government benefit payment card             328\n",
       "Debt settlement                             263\n",
       "Check cashing                               224\n",
       "ID prepaid card                             190\n",
       "Other special purpose card                  172\n",
       "Money order                                 125\n",
       "Credit repair                                88\n",
       "Pawn loan                                    84\n",
       "Traveler’s/Cashier’s checks                  72\n",
       "Refund anticipation check                    65\n",
       "Foreign currency exchange                    56\n",
       "Transit card                                 33\n",
       "Electronic Benefit Transfer / EBT card        7\n",
       "Name: sub_product, dtype: int64"
      ]
     },
     "execution_count": 30,
     "metadata": {},
     "output_type": "execute_result"
    }
   ],
   "source": [
    "df['sub_product']= df['sub_product'].astype('category')\n",
    "df['sub_product'].value_counts()"
   ]
  },
  {
   "cell_type": "code",
   "execution_count": 17,
   "metadata": {},
   "outputs": [
    {
     "data": {
      "text/plain": [
       "Incorrect information on credit report      89120\n",
       "Loan modification,collection,foreclosure    85497\n",
       "Loan servicing, payments, escrow account    62320\n",
       "Cont'd attempts collect debt not owed       54262\n",
       "Account opening, closing, or management     29745\n",
       "                                            ...  \n",
       "Lost or stolen money order                     36\n",
       "Incorrect exchange rate                        22\n",
       "Lender sold the property                        7\n",
       "Lender damaged or destroyed vehicle             6\n",
       "Lender damaged or destroyed property            1\n",
       "Name: issue, Length: 95, dtype: int64"
      ]
     },
     "execution_count": 17,
     "metadata": {},
     "output_type": "execute_result"
    }
   ],
   "source": [
    "df['issue'].value_counts()"
   ]
  },
  {
   "cell_type": "code",
   "execution_count": 18,
   "metadata": {},
   "outputs": [],
   "source": [
    "df['issue']= df['issue'].astype('category')"
   ]
  },
  {
   "cell_type": "code",
   "execution_count": 19,
   "metadata": {},
   "outputs": [
    {
     "data": {
      "text/plain": [
       "Debt is not mine                            33044\n",
       "Account status                              33034\n",
       "Information is not mine                     27722\n",
       "Not given enough info to verify debt        18407\n",
       "Debt was paid                               14827\n",
       "Frequent or repeated calls                  13515\n",
       "Account terms                                9556\n",
       "Attempted to collect wrong amount            7966\n",
       "Public record                                7547\n",
       "Personal information                         6502\n",
       "Right to dispute notice not received         6272\n",
       "Problem getting my free annual report        5927\n",
       "No notice of investigation status/result     5441\n",
       "Problem with statement of dispute            5077\n",
       "Reinserted previously deleted info           4759\n",
       "Report improperly shared by CRC              4537\n",
       "Talked to a third party about my debt        4511\n",
       "Threatened to take legal action              4338\n",
       "Debt resulted from identity theft            4195\n",
       "Problem getting report or credit score       3919\n",
       "Trouble with how payments are handled        3500\n",
       "Threatened to sue on too old debt            2496\n",
       "Contacted me after I asked not to            2400\n",
       "Can't decrease my monthly payments           2352\n",
       "Investigation took too long                  2268\n",
       "Can't get flexible payment options           2211\n",
       "Debt was discharged in bankruptcy            2196\n",
       "Received bad information about my loan       2138\n",
       "Threatened arrest/jail if do not pay         2137\n",
       "Contacted employer after asked not to        2039\n",
       "Having problems with customer service        1997\n",
       "Problem with fraud alerts                    1890\n",
       "Called after sent written cease of comm      1721\n",
       "Used obscene/profane/abusive language        1679\n",
       "Not disclosed as an attempt to collect       1599\n",
       "Don't agree with fees charged                1560\n",
       "Inadequate help over the phone               1452\n",
       "Sued w/o proper notification of suit         1267\n",
       "Impersonated an attorney or official         1219\n",
       "Seized/Attempted to seize property           1042\n",
       "Can't temporarily postpone payments          1007\n",
       "Keep getting calls about my loan              974\n",
       "Indicated committed crime not paying          921\n",
       "Need information about my balance/terms       847\n",
       "Called outside of 8am-9pm                     834\n",
       "Attempted to/Collected exempt funds           832\n",
       "Billing dispute                               770\n",
       "Account terms and changes                     644\n",
       "Problem cancelling or closing account         433\n",
       "Sued where didn't live/sign for debt          371\n",
       "Indicated shouldn't respond to lawsuit        310\n",
       "Can't qualify for a loan                      259\n",
       "Contacted me instead of my attorney           221\n",
       "Receiving unwanted marketing/advertising      191\n",
       "Received marketing offer after opted out      155\n",
       "Report shared with employer w/o consent       143\n",
       "Qualify for a better loan than offered        139\n",
       "Insurance terms                                 4\n",
       "Name: sub_issue, dtype: int64"
      ]
     },
     "execution_count": 19,
     "metadata": {},
     "output_type": "execute_result"
    }
   ],
   "source": [
    "df['sub_issue'].value_counts()"
   ]
  },
  {
   "cell_type": "code",
   "execution_count": 20,
   "metadata": {},
   "outputs": [],
   "source": [
    "df['sub_issue']= df['sub_issue'].astype('category')"
   ]
  },
  {
   "cell_type": "code",
   "execution_count": 31,
   "metadata": {},
   "outputs": [
    {
     "data": {
      "text/plain": [
       "date_received                        0\n",
       "product                              0\n",
       "sub_product                     192463\n",
       "issue                                0\n",
       "sub_issue                       351830\n",
       "company                              0\n",
       "state                             4525\n",
       "zip_code                          4521\n",
       "consumer_consent_provided?      380850\n",
       "submitted_via                        0\n",
       "date_sent_to_company                 0\n",
       "company_response_to_consumer         0\n",
       "timely_response?                     0\n",
       "consumer_disputed?                   0\n",
       "complaint_id                         0\n",
       "year                                 0\n",
       "month_year                           0\n",
       "dtype: int64"
      ]
     },
     "execution_count": 31,
     "metadata": {},
     "output_type": "execute_result"
    }
   ],
   "source": [
    "df.isna().sum()"
   ]
  },
  {
   "cell_type": "code",
   "execution_count": 32,
   "metadata": {},
   "outputs": [
    {
     "data": {
      "text/plain": [
       "BANK OF AMERICA, NATIONAL ASSOCIATION         46363\n",
       "EQUIFAX, INC.                                 42715\n",
       "WELLS FARGO & COMPANY                         40776\n",
       "Experian Information Solutions Inc.           40296\n",
       "TRANSUNION INTERMEDIATE HOLDINGS, INC.        34753\n",
       "                                              ...  \n",
       "Ernst, Ernst & Artmann, Inc.                      1\n",
       "Kirschbaum, Nanney, Keenan & Griffin, P.A.        1\n",
       "Oregon Credit & Collections Bureau, Inc.          1\n",
       "i3 Lending, Inc                                   1\n",
       "Emergi-Cash                                       1\n",
       "Name: company, Length: 4009, dtype: int64"
      ]
     },
     "execution_count": 32,
     "metadata": {},
     "output_type": "execute_result"
    }
   ],
   "source": [
    "df['company'].value_counts()"
   ]
  },
  {
   "cell_type": "code",
   "execution_count": 35,
   "metadata": {},
   "outputs": [
    {
     "data": {
      "text/html": [
       "<div>\n",
       "<style scoped>\n",
       "    .dataframe tbody tr th:only-of-type {\n",
       "        vertical-align: middle;\n",
       "    }\n",
       "\n",
       "    .dataframe tbody tr th {\n",
       "        vertical-align: top;\n",
       "    }\n",
       "\n",
       "    .dataframe thead th {\n",
       "        text-align: right;\n",
       "    }\n",
       "</style>\n",
       "<table border=\"1\" class=\"dataframe\">\n",
       "  <thead>\n",
       "    <tr style=\"text-align: right;\">\n",
       "      <th></th>\n",
       "      <th>company</th>\n",
       "      <th>count_complaints</th>\n",
       "    </tr>\n",
       "  </thead>\n",
       "  <tbody>\n",
       "    <tr>\n",
       "      <th>0</th>\n",
       "      <td>BANK OF AMERICA, NATIONAL ASSOCIATION</td>\n",
       "      <td>46363</td>\n",
       "    </tr>\n",
       "    <tr>\n",
       "      <th>1</th>\n",
       "      <td>EQUIFAX, INC.</td>\n",
       "      <td>42715</td>\n",
       "    </tr>\n",
       "    <tr>\n",
       "      <th>2</th>\n",
       "      <td>WELLS FARGO &amp; COMPANY</td>\n",
       "      <td>40776</td>\n",
       "    </tr>\n",
       "    <tr>\n",
       "      <th>3</th>\n",
       "      <td>Experian Information Solutions Inc.</td>\n",
       "      <td>40296</td>\n",
       "    </tr>\n",
       "    <tr>\n",
       "      <th>4</th>\n",
       "      <td>TRANSUNION INTERMEDIATE HOLDINGS, INC.</td>\n",
       "      <td>34753</td>\n",
       "    </tr>\n",
       "    <tr>\n",
       "      <th>...</th>\n",
       "      <td>...</td>\n",
       "      <td>...</td>\n",
       "    </tr>\n",
       "    <tr>\n",
       "      <th>4004</th>\n",
       "      <td>Ernst, Ernst &amp; Artmann, Inc.</td>\n",
       "      <td>1</td>\n",
       "    </tr>\n",
       "    <tr>\n",
       "      <th>4005</th>\n",
       "      <td>Kirschbaum, Nanney, Keenan &amp; Griffin, P.A.</td>\n",
       "      <td>1</td>\n",
       "    </tr>\n",
       "    <tr>\n",
       "      <th>4006</th>\n",
       "      <td>Oregon Credit &amp; Collections Bureau, Inc.</td>\n",
       "      <td>1</td>\n",
       "    </tr>\n",
       "    <tr>\n",
       "      <th>4007</th>\n",
       "      <td>i3 Lending, Inc</td>\n",
       "      <td>1</td>\n",
       "    </tr>\n",
       "    <tr>\n",
       "      <th>4008</th>\n",
       "      <td>Emergi-Cash</td>\n",
       "      <td>1</td>\n",
       "    </tr>\n",
       "  </tbody>\n",
       "</table>\n",
       "<p>4009 rows × 2 columns</p>\n",
       "</div>"
      ],
      "text/plain": [
       "                                         company  count_complaints\n",
       "0          BANK OF AMERICA, NATIONAL ASSOCIATION             46363\n",
       "1                                  EQUIFAX, INC.             42715\n",
       "2                          WELLS FARGO & COMPANY             40776\n",
       "3            Experian Information Solutions Inc.             40296\n",
       "4         TRANSUNION INTERMEDIATE HOLDINGS, INC.             34753\n",
       "...                                          ...               ...\n",
       "4004                Ernst, Ernst & Artmann, Inc.                 1\n",
       "4005  Kirschbaum, Nanney, Keenan & Griffin, P.A.                 1\n",
       "4006    Oregon Credit & Collections Bureau, Inc.                 1\n",
       "4007                             i3 Lending, Inc                 1\n",
       "4008                                 Emergi-Cash                 1\n",
       "\n",
       "[4009 rows x 2 columns]"
      ]
     },
     "execution_count": 35,
     "metadata": {},
     "output_type": "execute_result"
    }
   ],
   "source": [
    "a= pd.DataFrame(df['company'].value_counts())\n",
    "a.reset_index(inplace=True)\n",
    "a.columns=['company', 'count_complaints']\n",
    "a"
   ]
  },
  {
   "cell_type": "code",
   "execution_count": 40,
   "metadata": {},
   "outputs": [
    {
     "data": {
      "text/plain": [
       "count     4009.000000\n",
       "mean       154.937391\n",
       "std       1717.806467\n",
       "min          1.000000\n",
       "50%          6.000000\n",
       "80%         35.000000\n",
       "85%         51.000000\n",
       "90%         90.400000\n",
       "95%        226.200000\n",
       "97%        472.760000\n",
       "99%       1888.040000\n",
       "max      46363.000000\n",
       "Name: count_complaints, dtype: float64"
      ]
     },
     "execution_count": 40,
     "metadata": {},
     "output_type": "execute_result"
    }
   ],
   "source": [
    "a['count_complaints'].describe(\n",
    "    percentiles=[0.80, 0.85, 0.90, 0.95, 0.97, 0.99])"
   ]
  },
  {
   "cell_type": "code",
   "execution_count": 44,
   "metadata": {},
   "outputs": [
    {
     "data": {
      "text/plain": [
       "(576505, 17)"
      ]
     },
     "execution_count": 44,
     "metadata": {},
     "output_type": "execute_result"
    }
   ],
   "source": [
    "df[df['company'].isin(a[a['count_complaints']>=90]['company'])].shape"
   ]
  },
  {
   "cell_type": "code",
   "execution_count": 45,
   "metadata": {},
   "outputs": [
    {
     "data": {
      "text/plain": [
       "(621144, 17)"
      ]
     },
     "execution_count": 45,
     "metadata": {},
     "output_type": "execute_result"
    }
   ],
   "source": [
    "df.shape"
   ]
  },
  {
   "cell_type": "code",
   "execution_count": 30,
   "metadata": {},
   "outputs": [
    {
     "data": {
      "text/plain": [
       "0.0718657831356336"
      ]
     },
     "execution_count": 30,
     "metadata": {},
     "output_type": "execute_result"
    }
   ],
   "source": [
    "(621144-576505)/621144"
   ]
  },
  {
   "cell_type": "code",
   "execution_count": 47,
   "metadata": {},
   "outputs": [
    {
     "data": {
      "text/plain": [
       "BANK OF AMERICA, NATIONAL ASSOCIATION     46363\n",
       "EQUIFAX, INC.                             42715\n",
       "WELLS FARGO & COMPANY                     40776\n",
       "Experian Information Solutions Inc.       40296\n",
       "TRANSUNION INTERMEDIATE HOLDINGS, INC.    34753\n",
       "                                          ...  \n",
       "FIRST AMERICAN FINANCIAL CORPORATION         90\n",
       "VIRTUOSO SOURCING GROUP, LLC.                90\n",
       "CARDINAL FINANCIAL COMPANY                   90\n",
       "BANCORPSOUTH BANK                            90\n",
       "RS Clark and Associates, Inc.                90\n",
       "Name: company, Length: 406, dtype: int64"
      ]
     },
     "execution_count": 47,
     "metadata": {},
     "output_type": "execute_result"
    }
   ],
   "source": [
    "df= df[df['company'].isin(a[a['count_complaints']>=90]['company'])]\n",
    "df.reset_index(inplace=True, drop=True)\n",
    "df['company'].value_counts()"
   ]
  },
  {
   "cell_type": "code",
   "execution_count": 48,
   "metadata": {},
   "outputs": [
    {
     "data": {
      "text/plain": [
       "<BarContainer object of 406 artists>"
      ]
     },
     "execution_count": 48,
     "metadata": {},
     "output_type": "execute_result"
    },
    {
     "data": {
      "image/png": "[encoded data removed]",
      "text/plain": [
       "<Figure size 640x480 with 1 Axes>"
      ]
     },
     "metadata": {},
     "output_type": "display_data"
    }
   ],
   "source": [
    "a= pd.DataFrame(df['company'].value_counts())\n",
    "a= a.reset_index()\n",
    "plt.bar(a['index'], a['company'])"
   ]
  },
  {
   "cell_type": "code",
   "execution_count": 49,
   "metadata": {},
   "outputs": [
    {
     "data": {
      "text/plain": [
       "(array([[406.,   0.,   0.,   0.,   0.,   0.,   0.,   0.,   0.,   0.],\n",
       "        [384.,   8.,   4.,   2.,   1.,   1.,   1.,   1.,   2.,   2.]]),\n",
       " array([0.0, 4636.3, 9272.6, 13908.900000000001, 18545.2, 23181.5,\n",
       "        27817.800000000003, 32454.100000000002, 37090.4,\n",
       "        41726.700000000004, 46363.0], dtype=object),\n",
       " <a list of 2 BarContainer objects>)"
      ]
     },
     "execution_count": 49,
     "metadata": {},
     "output_type": "execute_result"
    },
    {
     "data": {
      "image/png": "[encoded data removed]",
      "text/plain": [
       "<Figure size 640x480 with 1 Axes>"
      ]
     },
     "metadata": {},
     "output_type": "display_data"
    }
   ],
   "source": [
    "plt.hist(a)"
   ]
  },
  {
   "cell_type": "code",
   "execution_count": 50,
   "metadata": {},
   "outputs": [
    {
     "data": {
      "text/plain": [
       "count      406.000000\n",
       "mean      1419.963054\n",
       "std       5235.921391\n",
       "min         90.000000\n",
       "25%        132.250000\n",
       "50%        225.000000\n",
       "75%        606.750000\n",
       "max      46363.000000\n",
       "Name: occurances, dtype: float64"
      ]
     },
     "execution_count": 50,
     "metadata": {},
     "output_type": "execute_result"
    }
   ],
   "source": [
    "a.columns=['company', 'occurances']\n",
    "a['occurances'].describe()"
   ]
  },
  {
   "cell_type": "code",
   "execution_count": 51,
   "metadata": {},
   "outputs": [
    {
     "data": {
      "text/plain": [
       "225    6\n",
       "107    6\n",
       "98     5\n",
       "162    5\n",
       "171    5\n",
       "      ..\n",
       "637    1\n",
       "622    1\n",
       "608    1\n",
       "603    1\n",
       "361    1\n",
       "Name: occurances, Length: 282, dtype: int64"
      ]
     },
     "execution_count": 51,
     "metadata": {},
     "output_type": "execute_result"
    }
   ],
   "source": [
    "a['occurances'].value_counts()"
   ]
  },
  {
   "cell_type": "code",
   "execution_count": 52,
   "metadata": {},
   "outputs": [
    {
     "data": {
      "text/html": [
       "<div>\n",
       "<style scoped>\n",
       "    .dataframe tbody tr th:only-of-type {\n",
       "        vertical-align: middle;\n",
       "    }\n",
       "\n",
       "    .dataframe tbody tr th {\n",
       "        vertical-align: top;\n",
       "    }\n",
       "\n",
       "    .dataframe thead th {\n",
       "        text-align: right;\n",
       "    }\n",
       "</style>\n",
       "<table border=\"1\" class=\"dataframe\">\n",
       "  <thead>\n",
       "    <tr style=\"text-align: right;\">\n",
       "      <th></th>\n",
       "      <th>date_received</th>\n",
       "      <th>product</th>\n",
       "      <th>sub_product</th>\n",
       "      <th>issue</th>\n",
       "      <th>sub_issue</th>\n",
       "      <th>company</th>\n",
       "      <th>state</th>\n",
       "      <th>zip_code</th>\n",
       "      <th>consumer_consent_provided?</th>\n",
       "      <th>submitted_via</th>\n",
       "      <th>date_sent_to_company</th>\n",
       "      <th>company_response_to_consumer</th>\n",
       "      <th>timely_response?</th>\n",
       "      <th>consumer_disputed?</th>\n",
       "      <th>complaint_id</th>\n",
       "      <th>year</th>\n",
       "      <th>month_year</th>\n",
       "    </tr>\n",
       "  </thead>\n",
       "  <tbody>\n",
       "    <tr>\n",
       "      <th>0</th>\n",
       "      <td>2015-10-26</td>\n",
       "      <td>Debt collection</td>\n",
       "      <td>I do not know</td>\n",
       "      <td>Communication tactics</td>\n",
       "      <td>Frequent or repeated calls</td>\n",
       "      <td>Hillcrest Davidson &amp; Associates</td>\n",
       "      <td>MO</td>\n",
       "      <td>64034</td>\n",
       "      <td>Consent provided</td>\n",
       "      <td>Web</td>\n",
       "      <td>2015-10-28</td>\n",
       "      <td>Closed</td>\n",
       "      <td>Yes</td>\n",
       "      <td>Yes</td>\n",
       "      <td>1623836</td>\n",
       "      <td>2015</td>\n",
       "      <td>2015-10</td>\n",
       "    </tr>\n",
       "    <tr>\n",
       "      <th>1</th>\n",
       "      <td>2016-07-08</td>\n",
       "      <td>Bank account or service</td>\n",
       "      <td>Other bank product/service</td>\n",
       "      <td>Making/receiving payments, sending money</td>\n",
       "      <td>NaN</td>\n",
       "      <td>HSBC NORTH AMERICA HOLDINGS INC.</td>\n",
       "      <td>NY</td>\n",
       "      <td>11358</td>\n",
       "      <td>Consent not provided</td>\n",
       "      <td>Web</td>\n",
       "      <td>2016-07-08</td>\n",
       "      <td>Closed with explanation</td>\n",
       "      <td>Yes</td>\n",
       "      <td>No</td>\n",
       "      <td>2004883</td>\n",
       "      <td>2016</td>\n",
       "      <td>2016-07</td>\n",
       "    </tr>\n",
       "    <tr>\n",
       "      <th>2</th>\n",
       "      <td>2014-09-22</td>\n",
       "      <td>Credit card</td>\n",
       "      <td>NaN</td>\n",
       "      <td>Other</td>\n",
       "      <td>NaN</td>\n",
       "      <td>CAPITAL ONE FINANCIAL CORPORATION</td>\n",
       "      <td>NH</td>\n",
       "      <td>03811</td>\n",
       "      <td>NaN</td>\n",
       "      <td>Web</td>\n",
       "      <td>2014-09-22</td>\n",
       "      <td>Closed with explanation</td>\n",
       "      <td>Yes</td>\n",
       "      <td>No</td>\n",
       "      <td>1038897</td>\n",
       "      <td>2014</td>\n",
       "      <td>2014-09</td>\n",
       "    </tr>\n",
       "    <tr>\n",
       "      <th>3</th>\n",
       "      <td>2013-03-13</td>\n",
       "      <td>Mortgage</td>\n",
       "      <td>Other mortgage</td>\n",
       "      <td>Loan modification,collection,foreclosure</td>\n",
       "      <td>NaN</td>\n",
       "      <td>HUNTINGTON NATIONAL BANK, THE</td>\n",
       "      <td>OH</td>\n",
       "      <td>44070</td>\n",
       "      <td>NaN</td>\n",
       "      <td>Web</td>\n",
       "      <td>2013-03-18</td>\n",
       "      <td>Closed with explanation</td>\n",
       "      <td>Yes</td>\n",
       "      <td>Yes</td>\n",
       "      <td>353552</td>\n",
       "      <td>2013</td>\n",
       "      <td>2013-03</td>\n",
       "    </tr>\n",
       "    <tr>\n",
       "      <th>4</th>\n",
       "      <td>2013-05-13</td>\n",
       "      <td>Credit card</td>\n",
       "      <td>NaN</td>\n",
       "      <td>Late fee</td>\n",
       "      <td>NaN</td>\n",
       "      <td>AMERICAN EXPRESS COMPANY</td>\n",
       "      <td>NY</td>\n",
       "      <td>10958</td>\n",
       "      <td>NaN</td>\n",
       "      <td>Web</td>\n",
       "      <td>2013-05-13</td>\n",
       "      <td>Closed with monetary relief</td>\n",
       "      <td>Yes</td>\n",
       "      <td>No</td>\n",
       "      <td>405371</td>\n",
       "      <td>2013</td>\n",
       "      <td>2013-05</td>\n",
       "    </tr>\n",
       "    <tr>\n",
       "      <th>...</th>\n",
       "      <td>...</td>\n",
       "      <td>...</td>\n",
       "      <td>...</td>\n",
       "      <td>...</td>\n",
       "      <td>...</td>\n",
       "      <td>...</td>\n",
       "      <td>...</td>\n",
       "      <td>...</td>\n",
       "      <td>...</td>\n",
       "      <td>...</td>\n",
       "      <td>...</td>\n",
       "      <td>...</td>\n",
       "      <td>...</td>\n",
       "      <td>...</td>\n",
       "      <td>...</td>\n",
       "      <td>...</td>\n",
       "      <td>...</td>\n",
       "    </tr>\n",
       "    <tr>\n",
       "      <th>576500</th>\n",
       "      <td>2014-03-03</td>\n",
       "      <td>Credit card</td>\n",
       "      <td>NaN</td>\n",
       "      <td>Payoff process</td>\n",
       "      <td>NaN</td>\n",
       "      <td>U.S. BANCORP</td>\n",
       "      <td>CA</td>\n",
       "      <td>92392</td>\n",
       "      <td>NaN</td>\n",
       "      <td>Web</td>\n",
       "      <td>2014-03-03</td>\n",
       "      <td>Closed with non-monetary relief</td>\n",
       "      <td>Yes</td>\n",
       "      <td>No</td>\n",
       "      <td>740648</td>\n",
       "      <td>2014</td>\n",
       "      <td>2014-03</td>\n",
       "    </tr>\n",
       "    <tr>\n",
       "      <th>576501</th>\n",
       "      <td>2014-01-07</td>\n",
       "      <td>Credit reporting</td>\n",
       "      <td>NaN</td>\n",
       "      <td>Incorrect information on credit report</td>\n",
       "      <td>Account status</td>\n",
       "      <td>Experian Information Solutions Inc.</td>\n",
       "      <td>TX</td>\n",
       "      <td>78729</td>\n",
       "      <td>NaN</td>\n",
       "      <td>Postal mail</td>\n",
       "      <td>2014-01-27</td>\n",
       "      <td>Closed with explanation</td>\n",
       "      <td>Yes</td>\n",
       "      <td>No</td>\n",
       "      <td>657754</td>\n",
       "      <td>2014</td>\n",
       "      <td>2014-01</td>\n",
       "    </tr>\n",
       "    <tr>\n",
       "      <th>576502</th>\n",
       "      <td>2016-04-19</td>\n",
       "      <td>Credit reporting</td>\n",
       "      <td>NaN</td>\n",
       "      <td>Incorrect information on credit report</td>\n",
       "      <td>Information is not mine</td>\n",
       "      <td>EQUIFAX, INC.</td>\n",
       "      <td>CA</td>\n",
       "      <td>92036</td>\n",
       "      <td>Other</td>\n",
       "      <td>Web</td>\n",
       "      <td>2016-04-19</td>\n",
       "      <td>Closed with explanation</td>\n",
       "      <td>Yes</td>\n",
       "      <td>No</td>\n",
       "      <td>1887015</td>\n",
       "      <td>2016</td>\n",
       "      <td>2016-04</td>\n",
       "    </tr>\n",
       "    <tr>\n",
       "      <th>576503</th>\n",
       "      <td>2016-07-19</td>\n",
       "      <td>Mortgage</td>\n",
       "      <td>Conventional fixed mortgage</td>\n",
       "      <td>Loan modification,collection,foreclosure</td>\n",
       "      <td>NaN</td>\n",
       "      <td>PNC Bank N.A.</td>\n",
       "      <td>TX</td>\n",
       "      <td>75022</td>\n",
       "      <td>Consent provided</td>\n",
       "      <td>Web</td>\n",
       "      <td>2016-07-19</td>\n",
       "      <td>Closed</td>\n",
       "      <td>Yes</td>\n",
       "      <td>No</td>\n",
       "      <td>2018364</td>\n",
       "      <td>2016</td>\n",
       "      <td>2016-07</td>\n",
       "    </tr>\n",
       "    <tr>\n",
       "      <th>576504</th>\n",
       "      <td>2016-07-12</td>\n",
       "      <td>Bank account or service</td>\n",
       "      <td>Checking account</td>\n",
       "      <td>Account opening, closing, or management</td>\n",
       "      <td>NaN</td>\n",
       "      <td>CITIBANK, N.A.</td>\n",
       "      <td>NY</td>\n",
       "      <td>11211</td>\n",
       "      <td>Consent provided</td>\n",
       "      <td>Web</td>\n",
       "      <td>2016-07-12</td>\n",
       "      <td>Closed with monetary relief</td>\n",
       "      <td>Yes</td>\n",
       "      <td>No</td>\n",
       "      <td>2009169</td>\n",
       "      <td>2016</td>\n",
       "      <td>2016-07</td>\n",
       "    </tr>\n",
       "  </tbody>\n",
       "</table>\n",
       "<p>576505 rows × 17 columns</p>\n",
       "</div>"
      ],
      "text/plain": [
       "       date_received                  product                  sub_product  \\\n",
       "0         2015-10-26          Debt collection                I do not know   \n",
       "1         2016-07-08  Bank account or service   Other bank product/service   \n",
       "2         2014-09-22              Credit card                          NaN   \n",
       "3         2013-03-13                 Mortgage               Other mortgage   \n",
       "4         2013-05-13              Credit card                          NaN   \n",
       "...              ...                      ...                          ...   \n",
       "576500    2014-03-03              Credit card                          NaN   \n",
       "576501    2014-01-07         Credit reporting                          NaN   \n",
       "576502    2016-04-19         Credit reporting                          NaN   \n",
       "576503    2016-07-19                 Mortgage  Conventional fixed mortgage   \n",
       "576504    2016-07-12  Bank account or service             Checking account   \n",
       "\n",
       "                                           issue                   sub_issue  \\\n",
       "0                          Communication tactics  Frequent or repeated calls   \n",
       "1       Making/receiving payments, sending money                         NaN   \n",
       "2                                          Other                         NaN   \n",
       "3       Loan modification,collection,foreclosure                         NaN   \n",
       "4                                       Late fee                         NaN   \n",
       "...                                          ...                         ...   \n",
       "576500                            Payoff process                         NaN   \n",
       "576501    Incorrect information on credit report              Account status   \n",
       "576502    Incorrect information on credit report     Information is not mine   \n",
       "576503  Loan modification,collection,foreclosure                         NaN   \n",
       "576504   Account opening, closing, or management                         NaN   \n",
       "\n",
       "                                    company state zip_code  \\\n",
       "0           Hillcrest Davidson & Associates    MO    64034   \n",
       "1          HSBC NORTH AMERICA HOLDINGS INC.    NY    11358   \n",
       "2         CAPITAL ONE FINANCIAL CORPORATION    NH    03811   \n",
       "3             HUNTINGTON NATIONAL BANK, THE    OH    44070   \n",
       "4                  AMERICAN EXPRESS COMPANY    NY    10958   \n",
       "...                                     ...   ...      ...   \n",
       "576500                         U.S. BANCORP    CA    92392   \n",
       "576501  Experian Information Solutions Inc.    TX    78729   \n",
       "576502                        EQUIFAX, INC.    CA    92036   \n",
       "576503                        PNC Bank N.A.    TX    75022   \n",
       "576504                       CITIBANK, N.A.    NY    11211   \n",
       "\n",
       "       consumer_consent_provided? submitted_via date_sent_to_company  \\\n",
       "0                Consent provided           Web           2015-10-28   \n",
       "1            Consent not provided           Web           2016-07-08   \n",
       "2                             NaN           Web           2014-09-22   \n",
       "3                             NaN           Web           2013-03-18   \n",
       "4                             NaN           Web           2013-05-13   \n",
       "...                           ...           ...                  ...   \n",
       "576500                        NaN           Web           2014-03-03   \n",
       "576501                        NaN   Postal mail           2014-01-27   \n",
       "576502                      Other           Web           2016-04-19   \n",
       "576503           Consent provided           Web           2016-07-19   \n",
       "576504           Consent provided           Web           2016-07-12   \n",
       "\n",
       "           company_response_to_consumer timely_response? consumer_disputed?  \\\n",
       "0                                Closed              Yes                Yes   \n",
       "1               Closed with explanation              Yes                 No   \n",
       "2               Closed with explanation              Yes                 No   \n",
       "3               Closed with explanation              Yes                Yes   \n",
       "4           Closed with monetary relief              Yes                 No   \n",
       "...                                 ...              ...                ...   \n",
       "576500  Closed with non-monetary relief              Yes                 No   \n",
       "576501          Closed with explanation              Yes                 No   \n",
       "576502          Closed with explanation              Yes                 No   \n",
       "576503                           Closed              Yes                 No   \n",
       "576504      Closed with monetary relief              Yes                 No   \n",
       "\n",
       "        complaint_id  year month_year  \n",
       "0            1623836  2015    2015-10  \n",
       "1            2004883  2016    2016-07  \n",
       "2            1038897  2014    2014-09  \n",
       "3             353552  2013    2013-03  \n",
       "4             405371  2013    2013-05  \n",
       "...              ...   ...        ...  \n",
       "576500        740648  2014    2014-03  \n",
       "576501        657754  2014    2014-01  \n",
       "576502       1887015  2016    2016-04  \n",
       "576503       2018364  2016    2016-07  \n",
       "576504       2009169  2016    2016-07  \n",
       "\n",
       "[576505 rows x 17 columns]"
      ]
     },
     "execution_count": 52,
     "metadata": {},
     "output_type": "execute_result"
    }
   ],
   "source": [
    "df"
   ]
  },
  {
   "cell_type": "code",
   "execution_count": 54,
   "metadata": {},
   "outputs": [
    {
     "name": "stdout",
     "output_type": "stream",
     "text": [
      "11\n",
      "48\n",
      "95\n",
      "59\n",
      "406\n"
     ]
    }
   ],
   "source": [
    "print(len(df['product'].unique()))\n",
    "print(len(df['sub_product'].unique()))\n",
    "print(len(df['issue'].unique()))\n",
    "print(len(df['sub_issue'].unique()))\n",
    "\n",
    "print(len(df['company'].unique()))"
   ]
  },
  {
   "attachments": {},
   "cell_type": "markdown",
   "metadata": {},
   "source": [
    "# do label encoding for the product, sub-product, issue, and sub-issue\n",
    "# do count encoding for company"
   ]
  },
  {
   "cell_type": "code",
   "execution_count": 55,
   "metadata": {},
   "outputs": [
    {
     "data": {
      "text/plain": [
       "date_received                        0\n",
       "product                              0\n",
       "sub_product                     190379\n",
       "issue                                0\n",
       "sub_issue                       339429\n",
       "company                              0\n",
       "state                             4262\n",
       "zip_code                          4255\n",
       "consumer_consent_provided?      358790\n",
       "submitted_via                        0\n",
       "date_sent_to_company                 0\n",
       "company_response_to_consumer         0\n",
       "timely_response?                     0\n",
       "consumer_disputed?                   0\n",
       "complaint_id                         0\n",
       "year                                 0\n",
       "month_year                           0\n",
       "dtype: int64"
      ]
     },
     "execution_count": 55,
     "metadata": {},
     "output_type": "execute_result"
    }
   ],
   "source": [
    "df.isna().sum()"
   ]
  },
  {
   "cell_type": "code",
   "execution_count": 56,
   "metadata": {},
   "outputs": [
    {
     "data": {
      "text/plain": [
       "(576505, 17)"
      ]
     },
     "execution_count": 56,
     "metadata": {},
     "output_type": "execute_result"
    }
   ],
   "source": [
    "df.shape"
   ]
  },
  {
   "cell_type": "code",
   "execution_count": 57,
   "metadata": {},
   "outputs": [
    {
     "data": {
      "text/plain": [
       "CA    83118\n",
       "FL    56457\n",
       "TX    45324\n",
       "NY    40315\n",
       "GA    26565\n",
       "      ...  \n",
       "MH       23\n",
       "MP       21\n",
       "AS       15\n",
       "AA       12\n",
       "PW       10\n",
       "Name: state, Length: 62, dtype: int64"
      ]
     },
     "execution_count": 57,
     "metadata": {},
     "output_type": "execute_result"
    }
   ],
   "source": [
    "df.dropna(subset=['zip_code', 'state'], inplace=True)\n",
    "df['state'].value_counts()"
   ]
  },
  {
   "cell_type": "code",
   "execution_count": 60,
   "metadata": {},
   "outputs": [
    {
     "data": {
      "text/plain": [
       "array(['MO', 'NY', 'NH', 'OH', 'TX', 'CA', 'KY', 'HI', 'NC', 'WA', 'VA',\n",
       "       'IL', 'FL', 'GA', 'WI', 'PR', 'TN', 'MD', 'AE', 'OK', 'MI', 'MA',\n",
       "       'UT', 'NJ', 'PA', 'CO', 'MT', 'SC', 'KS', 'MN', 'IA', 'CT', 'AZ',\n",
       "       'SD', 'AL', 'WV', 'OR', 'IN', 'DE', 'ID', 'AR', 'ME', 'NV', 'MS',\n",
       "       'LA', 'NM', 'NE', 'DC', 'VT', 'AK', 'RI', 'AP', 'ND', 'WY', 'VI',\n",
       "       'GU', 'FM', 'MH', 'AS', 'MP', 'AA', 'PW'], dtype=object)"
      ]
     },
     "execution_count": 60,
     "metadata": {},
     "output_type": "execute_result"
    }
   ],
   "source": [
    "df['state'].unique()"
   ]
  },
  {
   "cell_type": "code",
   "execution_count": 58,
   "metadata": {},
   "outputs": [
    {
     "data": {
      "text/plain": [
       "CA    83118\n",
       "FL    56457\n",
       "TX    45324\n",
       "NY    40315\n",
       "GA    26565\n",
       "NJ    23369\n",
       "PA    21152\n",
       "IL    21026\n",
       "VA    18791\n",
       "MD    18168\n",
       "OH    17439\n",
       "NC    16467\n",
       "MI    14030\n",
       "AZ    12571\n",
       "WA    11691\n",
       "MA    10997\n",
       "CO     9825\n",
       "TN     8806\n",
       "SC     7447\n",
       "MO     7404\n",
       "NV     7163\n",
       "OR     6819\n",
       "CT     6642\n",
       "MN     6536\n",
       "IN     6276\n",
       "AL     6049\n",
       "WI     6010\n",
       "LA     5828\n",
       "KY     4103\n",
       "OK     3687\n",
       "UT     3005\n",
       "DE     2910\n",
       "NM     2895\n",
       "KS     2657\n",
       "MS     2640\n",
       "NH     2495\n",
       "AR     2489\n",
       "IA     2405\n",
       "ID     1886\n",
       "HI     1866\n",
       "RI     1831\n",
       "ME     1824\n",
       "NE     1676\n",
       "WV     1479\n",
       "VT      896\n",
       "MT      858\n",
       "SD      710\n",
       "AK      670\n",
       "WY      539\n",
       "ND      496\n",
       "Name: state, dtype: int64"
      ]
     },
     "execution_count": 58,
     "metadata": {},
     "output_type": "execute_result"
    }
   ],
   "source": [
    "us_state_codes = ['AL', 'AK', 'AZ', 'AR', 'CA', 'CO', 'CT', 'DE', 'FL', \n",
    "                  'GA', 'HI', 'ID', 'IL', 'IN', 'IA', 'KS', 'KY', 'LA', \n",
    "                  'ME', 'MD', 'MA', 'MI', 'MN', 'MS', 'MO', 'MT', 'NE', \n",
    "                  'NV', 'NH', 'NJ', 'NM', 'NY', 'NC', 'ND', 'OH', 'OK', \n",
    "                  'OR', 'PA', 'RI', 'SC', 'SD', 'TN', 'TX', 'UT', 'VT', \n",
    "                  'VA', 'WA', 'WV', 'WI', 'WY']\n",
    "df[df['state'].isin(us_state_codes)]['state'].value_counts()"
   ]
  },
  {
   "cell_type": "code",
   "execution_count": 59,
   "metadata": {},
   "outputs": [
    {
     "data": {
      "text/plain": [
       "50"
      ]
     },
     "execution_count": 59,
     "metadata": {},
     "output_type": "execute_result"
    }
   ],
   "source": [
    "len(df[df['state'].isin(us_state_codes)]['state'].unique())"
   ]
  },
  {
   "cell_type": "code",
   "execution_count": 61,
   "metadata": {},
   "outputs": [
    {
     "data": {
      "text/plain": [
       "(572235, 17)"
      ]
     },
     "execution_count": 61,
     "metadata": {},
     "output_type": "execute_result"
    }
   ],
   "source": [
    "df.shape"
   ]
  },
  {
   "cell_type": "code",
   "execution_count": 62,
   "metadata": {},
   "outputs": [
    {
     "data": {
      "text/plain": [
       "(566302, 17)"
      ]
     },
     "execution_count": 62,
     "metadata": {},
     "output_type": "execute_result"
    }
   ],
   "source": [
    "df= df[df['state'].isin(us_state_codes)]\n",
    "df.shape"
   ]
  },
  {
   "cell_type": "code",
   "execution_count": 63,
   "metadata": {},
   "outputs": [
    {
     "name": "stdout",
     "output_type": "stream",
     "text": [
      "<class 'pandas.core.frame.DataFrame'>\n",
      "Int64Index: 566302 entries, 0 to 576504\n",
      "Data columns (total 17 columns):\n",
      " #   Column                        Non-Null Count   Dtype         \n",
      "---  ------                        --------------   -----         \n",
      " 0   date_received                 566302 non-null  datetime64[ns]\n",
      " 1   product                       566302 non-null  category      \n",
      " 2   sub_product                   379019 non-null  category      \n",
      " 3   issue                         566302 non-null  category      \n",
      " 4   sub_issue                     233496 non-null  category      \n",
      " 5   company                       566302 non-null  object        \n",
      " 6   state                         566302 non-null  object        \n",
      " 7   zip_code                      566302 non-null  object        \n",
      " 8   consumer_consent_provided?    214772 non-null  object        \n",
      " 9   submitted_via                 566302 non-null  object        \n",
      " 10  date_sent_to_company          566302 non-null  object        \n",
      " 11  company_response_to_consumer  566302 non-null  object        \n",
      " 12  timely_response?              566302 non-null  object        \n",
      " 13  consumer_disputed?            566302 non-null  object        \n",
      " 14  complaint_id                  566302 non-null  int64         \n",
      " 15  year                          566302 non-null  int64         \n",
      " 16  month_year                    566302 non-null  period[M]     \n",
      "dtypes: category(4), datetime64[ns](1), int64(2), object(9), period[M](1)\n",
      "memory usage: 62.7+ MB\n"
     ]
    }
   ],
   "source": [
    "df.info()"
   ]
  },
  {
   "cell_type": "code",
   "execution_count": 65,
   "metadata": {},
   "outputs": [
    {
     "name": "stderr",
     "output_type": "stream",
     "text": [
      "C:\\Users\\31405.ISBDOMAIN1\\AppData\\Local\\Temp\\12\\ipykernel_37428\\2501622004.py:1: SettingWithCopyWarning: \n",
      "A value is trying to be set on a copy of a slice from a DataFrame.\n",
      "Try using .loc[row_indexer,col_indexer] = value instead\n",
      "\n",
      "See the caveats in the documentation: https://pandas.pydata.org/pandas-docs/stable/user_guide/indexing.html#returning-a-view-versus-a-copy\n",
      "  df['company']= df['company'].astype('category')\n",
      "C:\\Users\\31405.ISBDOMAIN1\\AppData\\Local\\Temp\\12\\ipykernel_37428\\2501622004.py:2: SettingWithCopyWarning: \n",
      "A value is trying to be set on a copy of a slice from a DataFrame.\n",
      "Try using .loc[row_indexer,col_indexer] = value instead\n",
      "\n",
      "See the caveats in the documentation: https://pandas.pydata.org/pandas-docs/stable/user_guide/indexing.html#returning-a-view-versus-a-copy\n",
      "  df['state']= df['state'].astype('category')\n"
     ]
    },
    {
     "name": "stdout",
     "output_type": "stream",
     "text": [
      "<class 'pandas.core.frame.DataFrame'>\n",
      "Int64Index: 566302 entries, 0 to 576504\n",
      "Data columns (total 17 columns):\n",
      " #   Column                        Non-Null Count   Dtype         \n",
      "---  ------                        --------------   -----         \n",
      " 0   date_received                 566302 non-null  datetime64[ns]\n",
      " 1   product                       566302 non-null  category      \n",
      " 2   sub_product                   379019 non-null  category      \n",
      " 3   issue                         566302 non-null  category      \n",
      " 4   sub_issue                     233496 non-null  category      \n",
      " 5   company                       566302 non-null  category      \n",
      " 6   state                         566302 non-null  category      \n",
      " 7   zip_code                      566302 non-null  object        \n",
      " 8   consumer_consent_provided?    214772 non-null  object        \n",
      " 9   submitted_via                 566302 non-null  object        \n",
      " 10  date_sent_to_company          566302 non-null  object        \n",
      " 11  company_response_to_consumer  566302 non-null  object        \n",
      " 12  timely_response?              566302 non-null  object        \n",
      " 13  consumer_disputed?            566302 non-null  object        \n",
      " 14  complaint_id                  566302 non-null  int64         \n",
      " 15  year                          566302 non-null  int64         \n",
      " 16  month_year                    566302 non-null  period[M]     \n",
      "dtypes: category(6), datetime64[ns](1), int64(2), object(7), period[M](1)\n",
      "memory usage: 55.7+ MB\n"
     ]
    }
   ],
   "source": [
    "df['company']= df['company'].astype('category')\n",
    "df['state']= df['state'].astype('category')\n",
    "df.info()"
   ]
  },
  {
   "cell_type": "code",
   "execution_count": 66,
   "metadata": {},
   "outputs": [
    {
     "data": {
      "text/plain": [
       "Consent provided        117603\n",
       "Consent not provided     90369\n",
       "Other                     6796\n",
       "Consent withdrawn            4\n",
       "Name: consumer_consent_provided?, dtype: int64"
      ]
     },
     "execution_count": 66,
     "metadata": {},
     "output_type": "execute_result"
    }
   ],
   "source": [
    "df['consumer_consent_provided?'].value_counts()"
   ]
  },
  {
   "cell_type": "code",
   "execution_count": 68,
   "metadata": {},
   "outputs": [
    {
     "data": {
      "text/plain": [
       "Web            389986\n",
       "Referral        92009\n",
       "Postal mail     37939\n",
       "Phone           37875\n",
       "Fax              8345\n",
       "Email             148\n",
       "Name: submitted_via, dtype: int64"
      ]
     },
     "execution_count": 68,
     "metadata": {},
     "output_type": "execute_result"
    }
   ],
   "source": [
    "df['submitted_via'].value_counts()"
   ]
  },
  {
   "cell_type": "code",
   "execution_count": 69,
   "metadata": {},
   "outputs": [
    {
     "data": {
      "text/plain": [
       "Closed with explanation            440717\n",
       "Closed with non-monetary relief     75896\n",
       "Closed with monetary relief         38317\n",
       "Closed                              10944\n",
       "Untimely response                     428\n",
       "Name: company_response_to_consumer, dtype: int64"
      ]
     },
     "execution_count": 69,
     "metadata": {},
     "output_type": "execute_result"
    }
   ],
   "source": [
    "df['company_response_to_consumer'].value_counts()"
   ]
  },
  {
   "cell_type": "code",
   "execution_count": 70,
   "metadata": {},
   "outputs": [
    {
     "data": {
      "text/plain": [
       "Yes    557930\n",
       "No       8372\n",
       "Name: timely_response?, dtype: int64"
      ]
     },
     "execution_count": 70,
     "metadata": {},
     "output_type": "execute_result"
    }
   ],
   "source": [
    "df['timely_response?'].value_counts()"
   ]
  },
  {
   "cell_type": "code",
   "execution_count": 71,
   "metadata": {},
   "outputs": [
    {
     "data": {
      "text/plain": [
       "array(['Closed', 'Closed with explanation', 'Closed with monetary relief',\n",
       "       'Closed with non-monetary relief', 'Untimely response'],\n",
       "      dtype=object)"
      ]
     },
     "execution_count": 71,
     "metadata": {},
     "output_type": "execute_result"
    }
   ],
   "source": [
    "df['company_response_to_consumer'].unique()"
   ]
  },
  {
   "cell_type": "code",
   "execution_count": 72,
   "metadata": {},
   "outputs": [
    {
     "data": {
      "text/plain": [
       "(566302, 17)"
      ]
     },
     "execution_count": 72,
     "metadata": {},
     "output_type": "execute_result"
    }
   ],
   "source": [
    "df.shape"
   ]
  },
  {
   "cell_type": "code",
   "execution_count": 74,
   "metadata": {},
   "outputs": [
    {
     "data": {
      "text/plain": [
       "(565874, 17)"
      ]
     },
     "execution_count": 74,
     "metadata": {},
     "output_type": "execute_result"
    }
   ],
   "source": [
    "df[~df['company_response_to_consumer'].isin(['Untimely response'])].shape"
   ]
  },
  {
   "cell_type": "code",
   "execution_count": 75,
   "metadata": {},
   "outputs": [
    {
     "data": {
      "text/plain": [
       "(565874, 17)"
      ]
     },
     "execution_count": 75,
     "metadata": {},
     "output_type": "execute_result"
    }
   ],
   "source": [
    "df= df[~df['company_response_to_consumer'].isin(['Untimely response'])]\n",
    "df.reset_index(inplace=True, drop=True)\n",
    "df.shape"
   ]
  },
  {
   "cell_type": "code",
   "execution_count": 76,
   "metadata": {},
   "outputs": [
    {
     "data": {
      "text/plain": [
       "Yes    557930\n",
       "No       7944\n",
       "Name: timely_response?, dtype: int64"
      ]
     },
     "execution_count": 76,
     "metadata": {},
     "output_type": "execute_result"
    }
   ],
   "source": [
    "df['timely_response?'].value_counts()"
   ]
  },
  {
   "cell_type": "code",
   "execution_count": 77,
   "metadata": {},
   "outputs": [
    {
     "data": {
      "text/plain": [
       "No     454942\n",
       "Yes    110932\n",
       "Name: consumer_disputed?, dtype: int64"
      ]
     },
     "execution_count": 77,
     "metadata": {},
     "output_type": "execute_result"
    }
   ],
   "source": [
    "df['consumer_disputed?'].value_counts()"
   ]
  },
  {
   "cell_type": "code",
   "execution_count": 78,
   "metadata": {},
   "outputs": [
    {
     "data": {
      "text/plain": [
       "Index(['date_received', 'product', 'sub_product', 'issue', 'sub_issue',\n",
       "       'company', 'state', 'zip_code', 'consumer_consent_provided?',\n",
       "       'submitted_via', 'date_sent_to_company', 'company_response_to_consumer',\n",
       "       'timely_response?', 'consumer_disputed?', 'complaint_id', 'year',\n",
       "       'month_year'],\n",
       "      dtype='object')"
      ]
     },
     "execution_count": 78,
     "metadata": {},
     "output_type": "execute_result"
    }
   ],
   "source": [
    "df.columns"
   ]
  },
  {
   "cell_type": "code",
   "execution_count": 79,
   "metadata": {},
   "outputs": [
    {
     "name": "stdout",
     "output_type": "stream",
     "text": [
      "<class 'pandas.core.frame.DataFrame'>\n",
      "RangeIndex: 565874 entries, 0 to 565873\n",
      "Data columns (total 15 columns):\n",
      " #   Column                        Non-Null Count   Dtype         \n",
      "---  ------                        --------------   -----         \n",
      " 0   complaint_id                  565874 non-null  int64         \n",
      " 1   submitted_via                 565874 non-null  object        \n",
      " 2   date_received                 565874 non-null  datetime64[ns]\n",
      " 3   date_sent_to_company          565874 non-null  object        \n",
      " 4   timely_response               565874 non-null  object        \n",
      " 5   year                          565874 non-null  int64         \n",
      " 6   product                       565874 non-null  category      \n",
      " 7   sub_product                   378745 non-null  category      \n",
      " 8   issue                         565874 non-null  category      \n",
      " 9   sub_issue                     233262 non-null  category      \n",
      " 10  company                       565874 non-null  category      \n",
      " 11  state                         565874 non-null  category      \n",
      " 12  consumer_consent_provided     214561 non-null  object        \n",
      " 13  company_response_to_consumer  565874 non-null  object        \n",
      " 14  consumer_disputed             565874 non-null  object        \n",
      "dtypes: category(6), datetime64[ns](1), int64(2), object(6)\n",
      "memory usage: 42.7+ MB\n"
     ]
    }
   ],
   "source": [
    "df.columns=['date_received', 'product', 'sub_product', 'issue', 'sub_issue',\n",
    "       'company', 'state', 'zip_code', 'consumer_consent_provided',\n",
    "       'submitted_via', 'date_sent_to_company', 'company_response_to_consumer',\n",
    "       'timely_response', 'consumer_disputed', 'complaint_id', 'year',\n",
    "       'month_year']\n",
    "\n",
    "df= df[['complaint_id', 'submitted_via', 'date_received', 'date_sent_to_company', 'timely_response', 'year', \n",
    "        'product', 'sub_product', 'issue', 'sub_issue', 'company', 'state', \n",
    "        'consumer_consent_provided', 'company_response_to_consumer', 'consumer_disputed']]\n",
    "\n",
    "df.info()"
   ]
  },
  {
   "cell_type": "code",
   "execution_count": 80,
   "metadata": {},
   "outputs": [
    {
     "name": "stdout",
     "output_type": "stream",
     "text": [
      "<class 'pandas.core.frame.DataFrame'>\n",
      "RangeIndex: 565874 entries, 0 to 565873\n",
      "Data columns (total 15 columns):\n",
      " #   Column                        Non-Null Count   Dtype         \n",
      "---  ------                        --------------   -----         \n",
      " 0   complaint_id                  565874 non-null  int64         \n",
      " 1   submitted_via                 565874 non-null  category      \n",
      " 2   date_received                 565874 non-null  datetime64[ns]\n",
      " 3   date_sent_to_company          565874 non-null  datetime64[ns]\n",
      " 4   timely_response               565874 non-null  category      \n",
      " 5   year                          565874 non-null  int64         \n",
      " 6   product                       565874 non-null  category      \n",
      " 7   sub_product                   378745 non-null  category      \n",
      " 8   issue                         565874 non-null  category      \n",
      " 9   sub_issue                     233262 non-null  category      \n",
      " 10  company                       565874 non-null  category      \n",
      " 11  state                         565874 non-null  category      \n",
      " 12  consumer_consent_provided     214561 non-null  category      \n",
      " 13  company_response_to_consumer  565874 non-null  category      \n",
      " 14  consumer_disputed             565874 non-null  category      \n",
      "dtypes: category(11), datetime64[ns](2), int64(2)\n",
      "memory usage: 23.8 MB\n"
     ]
    }
   ],
   "source": [
    "df['submitted_via']= df['submitted_via'].astype('category')\n",
    "df['timely_response']= df['timely_response'].astype('category')\n",
    "df['consumer_consent_provided']= df['consumer_consent_provided'].astype('category')\n",
    "df['company_response_to_consumer']= df['company_response_to_consumer'].astype('category')\n",
    "df['consumer_disputed']= df['consumer_disputed'].astype('category')\n",
    "df['date_sent_to_company']= df['date_sent_to_company'].astype('datetime64[ns]')\n",
    "df.info()"
   ]
  },
  {
   "cell_type": "code",
   "execution_count": 81,
   "metadata": {},
   "outputs": [],
   "source": [
    "df.to_csv('data/cleaned-complaints.csv', index=False)"
   ]
  }
 ],
 "metadata": {
  "kernelspec": {
   "display_name": "base",
   "language": "python",
   "name": "python3"
  },
  "language_info": {
   "codemirror_mode": {
    "name": "ipython",
    "version": 3
   },
   "file_extension": ".py",
   "mimetype": "text/x-python",
   "name": "python",
   "nbconvert_exporter": "python",
   "pygments_lexer": "ipython3",
   "version": "3.8.13"
  },
  "orig_nbformat": 4
 },
 "nbformat": 4,
 "nbformat_minor": 2
}
