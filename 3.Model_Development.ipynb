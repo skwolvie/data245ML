{
  "nbformat": 4,
  "nbformat_minor": 0,
  "metadata": {
    "colab": {
      "provenance": [],
      "gpuType": "T4"
    },
    "kernelspec": {
      "name": "python3",
      "display_name": "Python 3"
    },
    "language_info": {
      "name": "python"
    },
    "accelerator": "GPU",
    "gpuClass": "standard"
  },
  "cells": [
    {
      "cell_type": "code",
      "source": [
        "import pandas as pd\n",
        "import numpy as np\n",
        "import os"
      ],
      "metadata": {
        "id": "xVQilY665afN"
      },
      "execution_count": null,
      "outputs": []
    },
    {
      "cell_type": "code",
      "source": [
        "import warnings\n",
        "from sklearn.exceptions import DataConversionWarning\n",
        "warnings.filterwarnings(action='ignore', category=DataConversionWarning)\n",
        "warnings.filterwarnings(action='ignore')"
      ],
      "metadata": {
        "id": "n7z67YvZCVsR"
      },
      "execution_count": null,
      "outputs": []
    },
    {
      "cell_type": "code",
      "source": [
        "os.chdir(r'/content/drive/Shareddrives/DATA 245 ML/Submission')"
      ],
      "metadata": {
        "id": "d4KR8t_65jek"
      },
      "execution_count": null,
      "outputs": []
    },
    {
      "cell_type": "code",
      "source": [
        "import os\n",
        "n_cpu = os.cpu_count()\n",
        "print(\"Number of CPUs in the system:\", n_cpu)"
      ],
      "metadata": {
        "id": "dZ_ZbGy8Od1w"
      },
      "execution_count": null,
      "outputs": []
    },
    {
      "cell_type": "code",
      "source": [
        "# !nvidia-smi"
      ],
      "metadata": {
        "id": "Rf9aj42KOj2b"
      },
      "execution_count": null,
      "outputs": []
    },
    {
      "cell_type": "code",
      "source": [
        "train= pd.read_csv('data/train.csv')\n",
        "test= pd.read_csv('data/test.csv')\n",
        "print(train.columns)"
      ],
      "metadata": {
        "id": "8onho5Qo5xig"
      },
      "execution_count": null,
      "outputs": []
    },
    {
      "cell_type": "code",
      "source": [
        "train_data= train[['submitted_via_le', 'timely_response_le', 'year', 'month', 'day',\n",
        "       'product_le', 'sub_product_le', 'issue_le', 'sub_issue_le',\n",
        "       'company_ce', 'state_le', 'consumer_consent_provided_le']]\n",
        "\n",
        "train_labels= train[['company_response_to_consumer_le']]\n",
        "\n",
        "test_data= train[['submitted_via_le', 'timely_response_le', 'year', 'month', 'day',\n",
        "       'product_le', 'sub_product_le', 'issue_le', 'sub_issue_le',\n",
        "       'company_ce', 'state_le', 'consumer_consent_provided_le']]\n",
        "\n",
        "test_labels= train[['company_response_to_consumer_le']]"
      ],
      "metadata": {
        "id": "SwIuRElV53hB"
      },
      "execution_count": null,
      "outputs": []
    },
    {
      "cell_type": "code",
      "execution_count": null,
      "metadata": {
        "id": "Nd1NY44Z5Xsc"
      },
      "outputs": [],
      "source": [
        "import numpy as np\n",
        "from sklearn.model_selection import StratifiedKFold, cross_val_score, cross_validate\n",
        "from sklearn.metrics import accuracy_score, precision_score, f1_score, classification_report, make_scorer\n",
        "from sklearn.tree import DecisionTreeClassifier\n",
        "from sklearn.ensemble import RandomForestClassifier\n",
        "from xgboost import XGBClassifier\n",
        "from sklearn.svm import SVC\n",
        "from lightgbm import LGBMClassifier\n",
        "from sklearn.neighbors import KNeighborsClassifier"
      ]
    },
    {
      "cell_type": "code",
      "source": [
        "# Define StratifiedKFold with shuffle enabled\n",
        "skf = StratifiedKFold(n_splits=10, shuffle=True, random_state=42)\n",
        "skf"
      ],
      "metadata": {
        "id": "UrOtVL8P56PS"
      },
      "execution_count": null,
      "outputs": []
    },
    {
      "cell_type": "code",
      "source": [
        "# Define scoring metrics\n",
        "scoring = {\n",
        "    'accuracy': 'accuracy',\n",
        "    'precision': 'precision_weighted',\n",
        "    'f1': 'f1_weighted'\n",
        "}"
      ],
      "metadata": {
        "id": "htdIvj6t-cB4"
      },
      "execution_count": null,
      "outputs": []
    },
    {
      "cell_type": "code",
      "source": [
        "# Decision Tree Classifier\n",
        "dt_classifier = DecisionTreeClassifier()\n",
        "dt_scores = cross_validate(dt_classifier, train_data, train_labels, cv=skf,\n",
        "                           scoring=scoring, return_train_score=False)\n",
        "\n",
        "print(\"Decision Tree Classifier 10-fold CV before tuning:\")\n",
        "print(\"Accuracy: \", np.round(np.mean(dt_scores['test_accuracy']), 5))\n",
        "print(\"Precision: \", np.round(np.mean(dt_scores['test_precision']), 5))\n",
        "print(\"F1 Score: \", np.round(np.mean(dt_scores['test_f1']), 5))\n",
        "print()\n",
        "pd.DataFrame(dt_scores)"
      ],
      "metadata": {
        "id": "6mAjWk7-6OLu"
      },
      "execution_count": null,
      "outputs": []
    },
    {
      "cell_type": "code",
      "source": [
        "# WITH CPU the results are as in the table. With GPU there is slight changes to 2 digit accuracy. Run this code without GPU to see PPT reported results.\n",
        "print(\"Decision Tree Classifier Accuracy before tuning: \", np.round(np.mean(dt_scores['test_accuracy']), 5))\n",
        "print(\"Decision Tree Classifier Precision before tuning: \", np.round(np.mean(dt_scores['test_precision']),5))\n",
        "print(\"Decision Tree Classifier F1 Score before tuning: \", np.round(np.mean(dt_scores['test_f1']),5))"
      ],
      "metadata": {
        "id": "hg6upvPE9_2i"
      },
      "execution_count": null,
      "outputs": []
    },
    {
      "cell_type": "code",
      "source": [
        "# LightGBM\n",
        "lgbm_classifier = LGBMClassifier()\n",
        "lgbm_scores = cross_validate(lgbm_classifier, train_data, train_labels, cv=skf,\n",
        "                             scoring=scoring, return_train_score=False)\n",
        "\n",
        "print(\"LightGBM 10-fold CV before tuning:\")\n",
        "print(\"Accuracy: \", np.round(np.mean(lgbm_scores['test_accuracy']), 5))\n",
        "print(\"Precision: \", np.round(np.mean(lgbm_scores['test_precision']), 5))\n",
        "print(\"F1 Score: \", np.round(np.mean(lgbm_scores['test_f1']), 5))\n",
        "print()\n",
        "pd.DataFrame(lgbm_scores)"
      ],
      "metadata": {
        "id": "9GBEeG5bQTqj"
      },
      "execution_count": null,
      "outputs": []
    },
    {
      "cell_type": "code",
      "source": [
        "# XGBoost\n",
        "xgb_classifier = XGBClassifier(n_jobs=-1)\n",
        "xgb_scores = cross_validate(xgb_classifier, train_data, train_labels, cv=skf,\n",
        "                            scoring=scoring, return_train_score=False)\n",
        "\n",
        "print(\"XGBoost Classifier 10-fold CV before tuning:\")\n",
        "print(\"Accuracy: \", np.round(np.mean(xgb_scores['test_accuracy']), 5))\n",
        "print(\"Precision: \", np.round(np.mean(xgb_scores['test_precision']), 5))\n",
        "print(\"F1 Score: \", np.round(np.mean(xgb_scores['test_f1']), 5))\n",
        "print()\n",
        "pd.DataFrame(xgb_scores)"
      ],
      "metadata": {
        "id": "a_sPI9JDAzqD"
      },
      "execution_count": null,
      "outputs": []
    },
    {
      "cell_type": "code",
      "source": [
        "# K-Nearest Neighbors (KNN)\n",
        "knn_classifier = KNeighborsClassifier()\n",
        "knn_scores = cross_validate(knn_classifier, train_data, train_labels, cv=skf,\n",
        "                            scoring=scoring, return_train_score=False)\n",
        "\n",
        "print(\"KNN Classifier 10-fold CV before tuning:\")\n",
        "print(\"Accuracy: \", np.round(np.mean(knn_scores['test_accuracy']), 5))\n",
        "print(\"Precision: \", np.round(np.mean(knn_scores['test_precision']), 5))\n",
        "print(\"F1 Score: \", np.round(np.mean(knn_scores['test_f1']), 5))\n",
        "print()\n",
        "pd.DataFrame(knn_scores)"
      ],
      "metadata": {
        "id": "13005JyKQoYn"
      },
      "execution_count": null,
      "outputs": []
    },
    {
      "cell_type": "code",
      "source": [
        "# Random Forest Classifier\n",
        "rf_classifier = RandomForestClassifier(n_jobs=-1)\n",
        "rf_scores = cross_validate(\n",
        "    rf_classifier, train_data, train_labels, cv=skf,\n",
        "    scoring=scoring, return_train_score=False)\n",
        "\n",
        "print(\"Random Forest Classifier 10-fold CV before tuning:\")\n",
        "print(\"Accuracy: \", np.round(np.mean(rf_scores['test_accuracy']), 5))\n",
        "print(\"Precision: \", np.round(np.mean(rf_scores['test_precision']), 5))\n",
        "print(\"F1 Score: \", np.round(np.mean(rf_scores['test_f1']), 5))\n",
        "print()\n",
        "pd.DataFrame(rf_scores)"
      ],
      "metadata": {
        "id": "mrFpQgvJQROU"
      },
      "execution_count": null,
      "outputs": []
    },
    {
      "cell_type": "code",
      "source": [
        "# SVM with linear kernel\n",
        "svm_classifier = SVC(kernel='linear')\n",
        "svm_scores = cross_validate(svm_classifier, train_data, train_labels, cv=skf,\n",
        "                            scoring=scoring, return_train_score=False)"
      ],
      "metadata": {
        "id": "5yS3UxvzBFnU"
      },
      "execution_count": null,
      "outputs": []
    },
    {
      "cell_type": "code",
      "source": [
        "print(\"SVM (Linear Kernel) 10-fold CV before tuning:\")\n",
        "print(\"Accuracy: \", np.round(np.mean(svm_scores['test_accuracy']), 5))\n",
        "print(\"Precision: \", np.round(np.mean(svm_scores['test_precision']), 5))\n",
        "print(\"F1 Score: \", np.round(np.mean(svm_scores['test_f1']), 5))\n",
        "print()\n",
        "pd.DataFrame(svm_scores)"
      ],
      "metadata": {
        "id": "Zt8RmPOyHjp1"
      },
      "execution_count": null,
      "outputs": []
    },
    {
      "cell_type": "markdown",
      "source": [
        "# hyper parameter tuning"
      ],
      "metadata": {
        "id": "BV94ObmIAdQJ"
      }
    },
    {
      "cell_type": "code",
      "source": [
        "from sklearn.model_selection import GridSearchCV"
      ],
      "metadata": {
        "id": "aolq-IDGHj-9"
      },
      "execution_count": null,
      "outputs": []
    },
    {
      "cell_type": "code",
      "source": [
        "dt_param_grid = {\n",
        "    'max_depth': [3, 7, 10, 12],\n",
        "    'min_samples_split': [2, 5, 10, 15]\n",
        "}\n",
        "\n",
        "rf_param_grid = {\n",
        "    'n_estimators': [100, 200, 300],\n",
        "    'max_depth': [3, 7, 10]\n",
        "}\n",
        "\n",
        "xgb_param_grid = {\n",
        "    'n_estimators': [100, 200, 300],\n",
        "    'max_depth': [3, 7, 10],\n",
        "    'learning_rate': [0.1, 0.01, 0.001]\n",
        "}\n",
        "\n",
        "svm_param_grid = {\n",
        "    'C': [1, 10, 100],\n",
        "}\n",
        "\n",
        "lgbm_param_grid = {\n",
        "    'n_estimators': [100, 200, 300],\n",
        "    'max_depth': [3, 5, 10],\n",
        "    'learning_rate': [0.1, 0.01, 0.001]\n",
        "}\n",
        "\n",
        "knn_param_grid = {\n",
        "    'n_neighbors': [3, 5, 7],\n",
        "    'weights': ['uniform', 'distance']\n",
        "}"
      ],
      "metadata": {
        "id": "I51Gr-UrAgo2"
      },
      "execution_count": null,
      "outputs": []
    },
    {
      "cell_type": "code",
      "source": [
        "dt_grid_search = GridSearchCV(dt_classifier, dt_param_grid, cv=10)\n",
        "dt_grid_search.fit(train_data, train_labels)"
      ],
      "metadata": {
        "id": "miXkHMtyBEPo"
      },
      "execution_count": null,
      "outputs": []
    },
    {
      "cell_type": "code",
      "source": [
        "dt_grid_search.best_params_"
      ],
      "metadata": {
        "id": "eq1NJLFzCKex"
      },
      "execution_count": null,
      "outputs": []
    },
    {
      "cell_type": "code",
      "source": [
        "dt_grid_search.best_score_"
      ],
      "metadata": {
        "id": "Ewg-ba1UCRvQ"
      },
      "execution_count": null,
      "outputs": []
    },
    {
      "cell_type": "code",
      "source": [
        "rf_grid_search = GridSearchCV(rf_classifier, rf_param_grid, cv=5)\n",
        "rf_grid_search.fit(train_data, train_labels)"
      ],
      "metadata": {
        "id": "iq1qw21ZBZkC"
      },
      "execution_count": null,
      "outputs": []
    },
    {
      "cell_type": "code",
      "source": [
        "rf_grid_search.best_params_"
      ],
      "metadata": {
        "id": "uDyGSnKyCVwS"
      },
      "execution_count": null,
      "outputs": []
    },
    {
      "cell_type": "code",
      "source": [
        "xgb_grid_search = GridSearchCV(xgb_classifier, xgb_param_grid, cv=5)\n",
        "xgb_grid_search.fit(train_data, train_labels)"
      ],
      "metadata": {
        "id": "jajn_4-RBlwg"
      },
      "execution_count": null,
      "outputs": []
    },
    {
      "cell_type": "code",
      "source": [
        "xgb_grid_search.best_params_"
      ],
      "metadata": {
        "id": "7obLcKkQCXTJ"
      },
      "execution_count": null,
      "outputs": []
    },
    {
      "cell_type": "code",
      "source": [
        "svm_grid_search = GridSearchCV(svm_classifier, svm_param_grid, cv=5)\n",
        "svm_grid_search.fit(train_data, train_labels)"
      ],
      "metadata": {
        "id": "E79ywMjhBmFE"
      },
      "execution_count": null,
      "outputs": []
    },
    {
      "cell_type": "code",
      "source": [
        "svm_grid_search.best_params_"
      ],
      "metadata": {
        "id": "wOM8WvUXCX8O"
      },
      "execution_count": null,
      "outputs": []
    },
    {
      "cell_type": "code",
      "source": [
        "lgbm_grid_search = GridSearchCV(lgbm_classifier, lgbm_param_grid, cv=5)\n",
        "lgbm_grid_search.fit(train_data, train_labels)"
      ],
      "metadata": {
        "id": "SkBFzSNVBmQI"
      },
      "execution_count": null,
      "outputs": []
    },
    {
      "cell_type": "code",
      "source": [
        "lgbm_grid_search.best_params_"
      ],
      "metadata": {
        "id": "RbyhyPtXCYrg"
      },
      "execution_count": null,
      "outputs": []
    },
    {
      "cell_type": "code",
      "source": [
        "knn_grid_search = GridSearchCV(knn_classifier, knn_param_grid, cv=5)\n",
        "knn_grid_search.fit(train_data, train_labels)"
      ],
      "metadata": {
        "id": "No4lZD8eBmbD"
      },
      "execution_count": null,
      "outputs": []
    },
    {
      "cell_type": "code",
      "source": [
        "knn_grid_search.best_params_"
      ],
      "metadata": {
        "id": "CI-_qH06CZWW"
      },
      "execution_count": null,
      "outputs": []
    },
    {
      "cell_type": "markdown",
      "source": [
        "# Save the best performing tuned model for deploying"
      ],
      "metadata": {
        "id": "1b4hODoXCjTM"
      }
    },
    {
      "cell_type": "code",
      "source": [
        "from sklearn.externals import joblib\n",
        "\n",
        "best_lgbm_classifier = lgbm_grid_search.best_estimator_\n",
        "\n",
        "# Save the best performing model\n",
        "joblib.dump(best_lgbm_classifier, 'LightGBM.pkl')"
      ],
      "metadata": {
        "id": "AM6bgmoeDWKJ"
      },
      "execution_count": null,
      "outputs": []
    }
  ]
}