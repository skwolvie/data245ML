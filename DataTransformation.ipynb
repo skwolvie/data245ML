{
 "cells": [
  {
   "cell_type": "code",
   "execution_count": 1,
   "metadata": {},
   "outputs": [],
   "source": [
    "import pandas as pd\n",
    "import numpy as np\n",
    "import os"
   ]
  },
  {
   "cell_type": "code",
   "execution_count": 2,
   "metadata": {},
   "outputs": [
    {
     "name": "stdout",
     "output_type": "stream",
     "text": [
      "<class 'pandas.core.frame.DataFrame'>\n",
      "RangeIndex: 565874 entries, 0 to 565873\n",
      "Data columns (total 15 columns):\n",
      " #   Column                        Non-Null Count   Dtype \n",
      "---  ------                        --------------   ----- \n",
      " 0   complaint_id                  565874 non-null  int64 \n",
      " 1   submitted_via                 565874 non-null  object\n",
      " 2   date_received                 565874 non-null  object\n",
      " 3   date_sent_to_company          565874 non-null  object\n",
      " 4   timely_response               565874 non-null  object\n",
      " 5   year                          565874 non-null  int64 \n",
      " 6   product                       565874 non-null  object\n",
      " 7   sub_product                   378745 non-null  object\n",
      " 8   issue                         565874 non-null  object\n",
      " 9   sub_issue                     233262 non-null  object\n",
      " 10  company                       565874 non-null  object\n",
      " 11  state                         565874 non-null  object\n",
      " 12  consumer_consent_provided     214561 non-null  object\n",
      " 13  company_response_to_consumer  565874 non-null  object\n",
      " 14  consumer_disputed             565874 non-null  object\n",
      "dtypes: int64(2), object(13)\n",
      "memory usage: 64.8+ MB\n"
     ]
    }
   ],
   "source": [
    "df= pd.read_csv('data/cleaned-complaints.csv')\n",
    "df.info()"
   ]
  },
  {
   "cell_type": "code",
   "execution_count": 3,
   "metadata": {},
   "outputs": [
    {
     "data": {
      "text/plain": [
       "Index(['complaint_id', 'submitted_via', 'date_received',\n",
       "       'date_sent_to_company', 'timely_response', 'year', 'product',\n",
       "       'sub_product', 'issue', 'sub_issue', 'company', 'state',\n",
       "       'consumer_consent_provided', 'company_response_to_consumer',\n",
       "       'consumer_disputed'],\n",
       "      dtype='object')"
      ]
     },
     "execution_count": 3,
     "metadata": {},
     "output_type": "execute_result"
    }
   ],
   "source": [
    "df.columns"
   ]
  },
  {
   "cell_type": "code",
   "execution_count": 4,
   "metadata": {},
   "outputs": [
    {
     "name": "stdout",
     "output_type": "stream",
     "text": [
      "<class 'pandas.core.frame.DataFrame'>\n",
      "RangeIndex: 565874 entries, 0 to 565873\n",
      "Data columns (total 15 columns):\n",
      " #   Column                        Non-Null Count   Dtype         \n",
      "---  ------                        --------------   -----         \n",
      " 0   complaint_id                  565874 non-null  int64         \n",
      " 1   submitted_via                 565874 non-null  category      \n",
      " 2   date_received                 565874 non-null  datetime64[ns]\n",
      " 3   date_sent_to_company          565874 non-null  datetime64[ns]\n",
      " 4   timely_response               565874 non-null  category      \n",
      " 5   year                          565874 non-null  int64         \n",
      " 6   product                       565874 non-null  category      \n",
      " 7   sub_product                   378745 non-null  category      \n",
      " 8   issue                         565874 non-null  category      \n",
      " 9   sub_issue                     233262 non-null  category      \n",
      " 10  company                       565874 non-null  category      \n",
      " 11  state                         565874 non-null  category      \n",
      " 12  consumer_consent_provided     214561 non-null  category      \n",
      " 13  company_response_to_consumer  565874 non-null  category      \n",
      " 14  consumer_disputed             565874 non-null  category      \n",
      "dtypes: category(11), datetime64[ns](2), int64(2)\n",
      "memory usage: 23.8 MB\n"
     ]
    }
   ],
   "source": [
    "df['date_received']= df['date_received'].astype('datetime64[ns]')\n",
    "df['date_sent_to_company']= df['date_sent_to_company'].astype('datetime64[ns]')\n",
    "\n",
    "df['product']= df['product'].astype('category')\n",
    "df['sub_product']= df['sub_product'].astype('category')\n",
    "df['issue']= df['issue'].astype('category')\n",
    "df['sub_issue']= df['sub_issue'].astype('category')\n",
    "df['company']= df['company'].astype('category')\n",
    "df['state']= df['state'].astype('category')\n",
    "\n",
    "df['submitted_via']= df['submitted_via'].astype('category')\n",
    "df['timely_response']= df['timely_response'].astype('category')\n",
    "df['consumer_consent_provided']= df['consumer_consent_provided'].astype('category')\n",
    "df['company_response_to_consumer']= df['company_response_to_consumer'].astype('category')\n",
    "df['consumer_disputed']= df['consumer_disputed'].astype('category')\n",
    "df['date_sent_to_company']= df['date_sent_to_company'].astype('datetime64[ns]')\n",
    "\n",
    "df.info()"
   ]
  },
  {
   "cell_type": "code",
   "execution_count": null,
   "metadata": {},
   "outputs": [],
   "source": []
  }
 ],
 "metadata": {
  "kernelspec": {
   "display_name": "base",
   "language": "python",
   "name": "python3"
  },
  "language_info": {
   "codemirror_mode": {
    "name": "ipython",
    "version": 3
   },
   "file_extension": ".py",
   "mimetype": "text/x-python",
   "name": "python",
   "nbconvert_exporter": "python",
   "pygments_lexer": "ipython3",
   "version": "3.8.13"
  },
  "orig_nbformat": 4
 },
 "nbformat": 4,
 "nbformat_minor": 2
}
